{
 "cells": [
  {
   "cell_type": "code",
   "execution_count": 1,
   "id": "ff57cbf7",
   "metadata": {},
   "outputs": [
    {
     "data": {
      "text/plain": [
       "True"
      ]
     },
     "execution_count": 1,
     "metadata": {},
     "output_type": "execute_result"
    }
   ],
   "source": [
    "import os\n",
    "from dotenv import load_dotenv\n",
    "load_dotenv(dotenv_path=os.path.join('studio', '.env'))"
   ]
  },
  {
   "cell_type": "code",
   "execution_count": 2,
   "id": "994cf903-1ed6-4ae2-b32a-7891a2808f81",
   "metadata": {},
   "outputs": [],
   "source": [
    "from langchain_openai import ChatOpenAI\n",
    "\n",
    "# Prompts we will use\n",
    "subjects_prompt = \"\"\"Generate a list of 3 planets that are all related to this overall topic: {topic}.\"\"\"\n",
    "fact_prompt = \"\"\"Generate an interesting scientific fact about {subject}\"\"\"\n",
    "best_fact_prompt = \"\"\"Below are a bunch of facts about {topic}. Select the most interesting one! Return the ID of the most interesting one, starting 0 as the ID for the first fact. Facts: \\n\\n  {facts}\"\"\"\n",
    "\n",
    "# LLM\n",
    "model = ChatOpenAI(model=\"gpt-4o\", temperature=0)"
   ]
  },
  {
   "cell_type": "code",
   "execution_count": 3,
   "id": "099218ca-ee78-4291-95a1-87ee61382e3b",
   "metadata": {},
   "outputs": [],
   "source": [
    "import operator\n",
    "from typing import Annotated\n",
    "from typing_extensions import TypedDict\n",
    "from pydantic import BaseModel\n",
    "\n",
    "class Subjects(BaseModel):\n",
    "    subjects: list[str]\n",
    "\n",
    "class BestFact(BaseModel):\n",
    "    id: int\n",
    "    \n",
    "class OverallState(TypedDict):\n",
    "    topic: str\n",
    "    subjects: list\n",
    "    facts: Annotated[list, operator.add]\n",
    "    best_selected_fact: str"
   ]
  },
  {
   "cell_type": "code",
   "execution_count": 4,
   "id": "45010efd-ad31-4daa-b77e-aaec79ef0309",
   "metadata": {},
   "outputs": [],
   "source": [
    "def generate_topics(state: OverallState):\n",
    "    prompt = subjects_prompt.format(topic=state[\"topic\"])\n",
    "    response = model.with_structured_output(Subjects).invoke(prompt)\n",
    "    return {\"subjects\": response.subjects}"
   ]
  },
  {
   "cell_type": "code",
   "execution_count": 5,
   "id": "bc83e575-11f6-41a9-990a-adb571bcda06",
   "metadata": {},
   "outputs": [],
   "source": [
    "from langgraph.types import Send\n",
    "def continue_to_facts(state: OverallState):\n",
    "    return [Send(\"generate_fact\", {\"subject\": s}) for s in state[\"subjects\"]]"
   ]
  },
  {
   "cell_type": "code",
   "execution_count": 6,
   "id": "bcddc567-73d3-4fb3-bfc5-1bea538f2aab",
   "metadata": {},
   "outputs": [],
   "source": [
    "class FactState(TypedDict):\n",
    "    subject: str\n",
    "\n",
    "class Fact(BaseModel):\n",
    "    fact: str\n",
    "\n",
    "def generate_fact(state: FactState):\n",
    "    prompt = fact_prompt.format(subject=state[\"subject\"])\n",
    "    response = model.with_structured_output(Fact).invoke(prompt)\n",
    "    return {\"facts\": [response.fact]}"
   ]
  },
  {
   "cell_type": "code",
   "execution_count": 7,
   "id": "8d672870-75e3-4307-bda0-c41a86cbbaff",
   "metadata": {},
   "outputs": [],
   "source": [
    "def best_fact(state: OverallState):\n",
    "    facts = \"\\n\\n\".join(state[\"facts\"])\n",
    "    prompt = best_fact_prompt.format(topic=state[\"topic\"], facts=facts)\n",
    "    response = model.with_structured_output(BestFact).invoke(prompt)\n",
    "    return {\"best_selected_fact\": state[\"facts\"][response.id]}"
   ]
  },
  {
   "cell_type": "code",
   "execution_count": 8,
   "id": "2ae6be4b-144e-483c-88ad-ce86d6477a0d",
   "metadata": {},
   "outputs": [
    {
     "data": {
      "image/png": "[encoded data removed]",
      "text/plain": [
       "<IPython.core.display.Image object>"
      ]
     },
     "execution_count": 8,
     "metadata": {},
     "output_type": "execute_result"
    }
   ],
   "source": [
    "from IPython.display import Image\n",
    "from langgraph.graph import END, StateGraph, START\n",
    "\n",
    "# Construct the graph: here we put everything together to construct our graph\n",
    "graph = StateGraph(OverallState)\n",
    "graph.add_node(\"generate_topics\", generate_topics)\n",
    "graph.add_node(\"generate_fact\", generate_fact)\n",
    "graph.add_node(\"best_fact\", best_fact)\n",
    "graph.add_edge(START, \"generate_topics\")\n",
    "graph.add_conditional_edges(\"generate_topics\", continue_to_facts, [\"generate_fact\"])\n",
    "graph.add_edge(\"generate_fact\", \"best_fact\")\n",
    "graph.add_edge(\"best_fact\", END)\n",
    "\n",
    "# Compile the graph\n",
    "app = graph.compile()\n",
    "Image(app.get_graph().draw_mermaid_png())"
   ]
  },
  {
   "cell_type": "code",
   "execution_count": 9,
   "id": "e21dc7c9-0add-4125-be76-af701adb874a",
   "metadata": {},
   "outputs": [
    {
     "name": "stdout",
     "output_type": "stream",
     "text": [
      "{'generate_topics': {'subjects': ['Mars', 'Jupiter', 'Neptune']}}\n",
      "{'generate_fact': {'facts': [\"Jupiter, the largest planet in our solar system, is so massive that it doesn't orbit the Sun in the same way other planets do. Instead, it orbits a point in space just outside the Sun's surface, known as the barycenter. This is because Jupiter's mass is so significant that the center of mass between it and the Sun lies outside the Sun itself. This unique orbital characteristic highlights Jupiter's immense gravitational influence in our solar system.\"]}}\n",
      "{'generate_fact': {'facts': ['Mars, often referred to as the \"Red Planet,\" has the largest volcano in the solar system, Olympus Mons. This colossal shield volcano stands about 13.6 miles (22 kilometers) high, which is nearly three times the height of Mount Everest, Earth\\'s tallest mountain above sea level. Olympus Mons spans approximately 370 miles (600 kilometers) in diameter, making it roughly the size of the state of Arizona. Its massive size is attributed to the lack of tectonic plate movement on Mars, allowing the volcano to grow over billions of years without being disrupted by shifting plates.']}}\n",
      "{'generate_fact': {'facts': [\"Neptune, the eighth planet from the Sun, is known for its striking deep blue color, which is primarily due to the presence of methane in its atmosphere. However, what makes Neptune particularly fascinating is its dynamic and turbulent weather system. \\n\\n**Fact:**\\nNeptune has the fastest winds in the solar system, with speeds reaching up to 1,200 miles per hour (1,931 kilometers per hour). These supersonic winds are faster than the speed of sound on Earth and are responsible for the planet's intense storms and large, dark spots similar to Jupiter's Great Red Spot. \\n\\n**Additional Insight:**\\n- **The Great Dark Spot:** Discovered by the Voyager 2 spacecraft in 1989, this massive storm system was comparable in size to Earth and showcased the planet's extreme weather conditions. Although it disappeared a few years later, similar storms have been observed since.\\n- **Mystery of the Winds:** Despite being so far from the Sun and receiving little solar energy, Neptune's atmosphere is incredibly active. Scientists are still trying to understand the source of energy that powers these high-speed winds, with theories suggesting internal heat as a possible contributor.\\n\\nNeptune's dynamic atmosphere and extreme weather patterns continue to intrigue astronomers and challenge our understanding of planetary science.\"]}}\n",
      "{'best_fact': {'best_selected_fact': \"Neptune, the eighth planet from the Sun, is known for its striking deep blue color, which is primarily due to the presence of methane in its atmosphere. However, what makes Neptune particularly fascinating is its dynamic and turbulent weather system. \\n\\n**Fact:**\\nNeptune has the fastest winds in the solar system, with speeds reaching up to 1,200 miles per hour (1,931 kilometers per hour). These supersonic winds are faster than the speed of sound on Earth and are responsible for the planet's intense storms and large, dark spots similar to Jupiter's Great Red Spot. \\n\\n**Additional Insight:**\\n- **The Great Dark Spot:** Discovered by the Voyager 2 spacecraft in 1989, this massive storm system was comparable in size to Earth and showcased the planet's extreme weather conditions. Although it disappeared a few years later, similar storms have been observed since.\\n- **Mystery of the Winds:** Despite being so far from the Sun and receiving little solar energy, Neptune's atmosphere is incredibly active. Scientists are still trying to understand the source of energy that powers these high-speed winds, with theories suggesting internal heat as a possible contributor.\\n\\nNeptune's dynamic atmosphere and extreme weather patterns continue to intrigue astronomers and challenge our understanding of planetary science.\"}}\n"
     ]
    }
   ],
   "source": [
    "# Call the graph: here we call it to generate a list of jokes\n",
    "for s in app.stream({\"topic\": \"solar system planets\"}):\n",
    "    print(s)"
   ]
  },
  {
   "cell_type": "code",
   "execution_count": null,
   "id": "741a5e45-9a4c-43b4-8393-9298b3dcda53",
   "metadata": {},
   "outputs": [],
   "source": []
  }
 ],
 "metadata": {
  "kernelspec": {
   "display_name": "venv",
   "language": "python",
   "name": "python3"
  },
  "language_info": {
   "codemirror_mode": {
    "name": "ipython",
    "version": 3
   },
   "file_extension": ".py",
   "mimetype": "text/x-python",
   "name": "python",
   "nbconvert_exporter": "python",
   "pygments_lexer": "ipython3",
   "version": "3.12.10"
  }
 },
 "nbformat": 4,
 "nbformat_minor": 5
}
