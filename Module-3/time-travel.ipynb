{
 "cells": [
  {
   "cell_type": "code",
   "execution_count": 1,
   "id": "7d32093f",
   "metadata": {},
   "outputs": [
    {
     "data": {
      "text/plain": [
       "True"
      ]
     },
     "execution_count": 1,
     "metadata": {},
     "output_type": "execute_result"
    }
   ],
   "source": [
    "import os\n",
    "from dotenv import load_dotenv\n",
    "load_dotenv(dotenv_path=os.path.join('studio', '.env'))"
   ]
  },
  {
   "cell_type": "code",
   "execution_count": 2,
   "id": "d64ab3a1-b39c-4176-88c7-791a0b80c725",
   "metadata": {},
   "outputs": [],
   "source": [
    "from langchain_openai import ChatOpenAI\n",
    "\n",
    "def multiply(a: int, b: int) -> int:\n",
    "    \"\"\"Multiply a and b.\n",
    "\n",
    "    Args:\n",
    "        a: first int\n",
    "        b: second int\n",
    "    \"\"\"\n",
    "    return a * b\n",
    "\n",
    "# This will be a tool\n",
    "def add(a: int, b: int) -> int:\n",
    "    \"\"\"Adds a and b.\n",
    "\n",
    "    Args:\n",
    "        a: first int\n",
    "        b: second int\n",
    "    \"\"\"\n",
    "    return a + b\n",
    "\n",
    "def divide(a: int, b: int) -> float:\n",
    "    \"\"\"Divide a by b.\n",
    "\n",
    "    Args:\n",
    "        a: first int\n",
    "        b: second int\n",
    "    \"\"\"\n",
    "    return a / b\n",
    "\n",
    "def exponent (a: int, b: int) -> float:\n",
    "    \"\"\"Raise a to the power of b.\n",
    "    \n",
    "    Args:\n",
    "        a: first int\n",
    "        b: second int\n",
    "    \"\"\"\n",
    "    return a ** b\n",
    "\n",
    "tools = [add, multiply, divide, exponent]\n",
    "llm = ChatOpenAI(model=\"gpt-4o\")\n",
    "llm_with_tools = llm.bind_tools(tools)"
   ]
  },
  {
   "cell_type": "code",
   "execution_count": 3,
   "id": "1d8622a9-57cd-44dc-8696-46c5ab32d0b9",
   "metadata": {},
   "outputs": [
    {
     "data": {
      "image/png": "[encoded data removed]",
      "text/plain": [
       "<IPython.core.display.Image object>"
      ]
     },
     "metadata": {},
     "output_type": "display_data"
    }
   ],
   "source": [
    "from IPython.display import Image, display\n",
    "\n",
    "from langgraph.checkpoint.memory import MemorySaver\n",
    "from langgraph.graph import MessagesState\n",
    "from langgraph.graph import START, END, StateGraph\n",
    "from langgraph.prebuilt import tools_condition, ToolNode\n",
    "\n",
    "from langchain_core.messages import AIMessage, HumanMessage, SystemMessage\n",
    "\n",
    "# System message\n",
    "sys_msg = SystemMessage(content=\"You are a helpful assistant tasked with performing arithmetic on a set of inputs.\")\n",
    "\n",
    "# Node\n",
    "def assistant(state: MessagesState):\n",
    "   return {\"messages\": [llm_with_tools.invoke([sys_msg] + state[\"messages\"])]}\n",
    "\n",
    "# Graph\n",
    "builder = StateGraph(MessagesState)\n",
    "\n",
    "# Define nodes: these do the work\n",
    "builder.add_node(\"assistant\", assistant)\n",
    "builder.add_node(\"tools\", ToolNode(tools))\n",
    "\n",
    "# Define edges: these determine the control flow\n",
    "builder.add_edge(START, \"assistant\")\n",
    "builder.add_conditional_edges(\n",
    "    \"assistant\",\n",
    "    # If the latest message (result) from assistant is a tool call -> tools_condition routes to tools\n",
    "    # If the latest message (result) from assistant is a not a tool call -> tools_condition routes to END\n",
    "    tools_condition,\n",
    ")\n",
    "builder.add_edge(\"tools\", \"assistant\")\n",
    "\n",
    "memory = MemorySaver()\n",
    "graph = builder.compile(checkpointer=MemorySaver())\n",
    "\n",
    "# Show\n",
    "display(Image(graph.get_graph(xray=True).draw_mermaid_png()))"
   ]
  },
  {
   "cell_type": "code",
   "execution_count": 4,
   "id": "05b2ab62-82bc-4356-8d5b-2d4f49069fdd",
   "metadata": {},
   "outputs": [
    {
     "name": "stdout",
     "output_type": "stream",
     "text": [
      "================================\u001b[1m Human Message \u001b[0m=================================\n",
      "\n",
      "Raise 3 to the power of 5\n",
      "==================================\u001b[1m Ai Message \u001b[0m==================================\n",
      "Tool Calls:\n",
      "  exponent (call_7PR83z5se4gbHcUaFkSs15o5)\n",
      " Call ID: call_7PR83z5se4gbHcUaFkSs15o5\n",
      "  Args:\n",
      "    a: 3\n",
      "    b: 5\n",
      "=================================\u001b[1m Tool Message \u001b[0m=================================\n",
      "Name: exponent\n",
      "\n",
      "243\n",
      "==================================\u001b[1m Ai Message \u001b[0m==================================\n",
      "\n",
      "3 raised to the power of 5 is 243.\n"
     ]
    }
   ],
   "source": [
    "# Input\n",
    "initial_input = {\"messages\": HumanMessage(content=\"Raise 3 to the power of 5\")}\n",
    "\n",
    "# Thread\n",
    "thread = {\"configurable\": {\"thread_id\": \"1\"}}\n",
    "\n",
    "# Run the graph until the first interruption\n",
    "for event in graph.stream(initial_input, thread, stream_mode=\"values\"):\n",
    "    event['messages'][-1].pretty_print()"
   ]
  },
  {
   "cell_type": "code",
   "execution_count": 5,
   "id": "161eb053-18f6-4c99-8674-8cbd11cae57e",
   "metadata": {},
   "outputs": [
    {
     "data": {
      "text/plain": [
       "StateSnapshot(values={'messages': [HumanMessage(content='Raise 3 to the power of 5', additional_kwargs={}, response_metadata={}, id='633bff36-e844-405e-94f7-48627b396cd5'), AIMessage(content='', additional_kwargs={'tool_calls': [{'id': 'call_7PR83z5se4gbHcUaFkSs15o5', 'function': {'arguments': '{\"a\":3,\"b\":5}', 'name': 'exponent'}, 'type': 'function'}], 'refusal': None}, response_metadata={'token_usage': {'completion_tokens': 18, 'prompt_tokens': 166, 'total_tokens': 184, 'completion_tokens_details': {'accepted_prediction_tokens': 0, 'audio_tokens': 0, 'reasoning_tokens': 0, 'rejected_prediction_tokens': 0}, 'prompt_tokens_details': {'audio_tokens': 0, 'cached_tokens': 0}}, 'model_name': 'gpt-4o-2024-08-06', 'system_fingerprint': 'fp_65564d8ba5', 'id': 'chatcmpl-CUwCNDPek9VjkhDeBQ5rum5zBdNTt', 'service_tier': 'default', 'finish_reason': 'tool_calls', 'logprobs': None}, id='run--639a5da3-c8a4-4d84-a72a-f3b0dbc136bd-0', tool_calls=[{'name': 'exponent', 'args': {'a': 3, 'b': 5}, 'id': 'call_7PR83z5se4gbHcUaFkSs15o5', 'type': 'tool_call'}], usage_metadata={'input_tokens': 166, 'output_tokens': 18, 'total_tokens': 184, 'input_token_details': {'audio': 0, 'cache_read': 0}, 'output_token_details': {'audio': 0, 'reasoning': 0}}), ToolMessage(content='243', name='exponent', id='e89d24c4-d67d-4d5f-abc1-746ec84d4234', tool_call_id='call_7PR83z5se4gbHcUaFkSs15o5'), AIMessage(content='3 raised to the power of 5 is 243.', additional_kwargs={'refusal': None}, response_metadata={'token_usage': {'completion_tokens': 13, 'prompt_tokens': 193, 'total_tokens': 206, 'completion_tokens_details': {'accepted_prediction_tokens': 0, 'audio_tokens': 0, 'reasoning_tokens': 0, 'rejected_prediction_tokens': 0}, 'prompt_tokens_details': {'audio_tokens': 0, 'cached_tokens': 0}}, 'model_name': 'gpt-4o-2024-08-06', 'system_fingerprint': 'fp_cbf1785567', 'id': 'chatcmpl-CUwCOZB3tC5wGFM9C5KnmKPzdbXpR', 'service_tier': 'default', 'finish_reason': 'stop', 'logprobs': None}, id='run--c2349b76-8a7b-423b-a8d5-65d34f44d64b-0', usage_metadata={'input_tokens': 193, 'output_tokens': 13, 'total_tokens': 206, 'input_token_details': {'audio': 0, 'cache_read': 0}, 'output_token_details': {'audio': 0, 'reasoning': 0}})]}, next=(), config={'configurable': {'thread_id': '1', 'checkpoint_ns': '', 'checkpoint_id': '1f0b279a-472a-6f88-8003-9ea6f5f1447a'}}, metadata={'source': 'loop', 'step': 3, 'parents': {}}, created_at='2025-10-26T14:39:56.825178+00:00', parent_config={'configurable': {'thread_id': '1', 'checkpoint_ns': '', 'checkpoint_id': '1f0b279a-3ba2-6c6d-8002-efeb1b9e5dfc'}}, tasks=(), interrupts=())"
      ]
     },
     "execution_count": 5,
     "metadata": {},
     "output_type": "execute_result"
    }
   ],
   "source": [
    "graph.get_state({'configurable': {'thread_id': '1'}})"
   ]
  },
  {
   "cell_type": "code",
   "execution_count": 6,
   "id": "3010169c-3bfa-498c-a30c-7ba53744e4d5",
   "metadata": {},
   "outputs": [],
   "source": [
    "all_states = [s for s in graph.get_state_history(thread)]"
   ]
  },
  {
   "cell_type": "code",
   "execution_count": 7,
   "id": "c4612ccf-59fc-4848-8845-0433fee2ca8e",
   "metadata": {},
   "outputs": [
    {
     "data": {
      "text/plain": [
       "5"
      ]
     },
     "execution_count": 7,
     "metadata": {},
     "output_type": "execute_result"
    }
   ],
   "source": [
    "len(all_states)"
   ]
  },
  {
   "cell_type": "code",
   "execution_count": 8,
   "id": "4e60b292-8efc-4cc3-b836-51f060fa608b",
   "metadata": {},
   "outputs": [
    {
     "data": {
      "text/plain": [
       "StateSnapshot(values={'messages': [HumanMessage(content='Raise 3 to the power of 5', additional_kwargs={}, response_metadata={}, id='633bff36-e844-405e-94f7-48627b396cd5')]}, next=('assistant',), config={'configurable': {'thread_id': '1', 'checkpoint_ns': '', 'checkpoint_id': '1f0b279a-3223-659a-8000-0f1635b2f063'}}, metadata={'source': 'loop', 'step': 0, 'parents': {}}, created_at='2025-10-26T14:39:54.620047+00:00', parent_config={'configurable': {'thread_id': '1', 'checkpoint_ns': '', 'checkpoint_id': '1f0b279a-3216-6f4e-bfff-dc04aaf3808d'}}, tasks=(PregelTask(id='618ff22b-c203-baf6-50ad-040da90ffb48', name='assistant', path=('__pregel_pull', 'assistant'), error=None, interrupts=(), state=None, result={'messages': [AIMessage(content='', additional_kwargs={'tool_calls': [{'id': 'call_7PR83z5se4gbHcUaFkSs15o5', 'function': {'arguments': '{\"a\":3,\"b\":5}', 'name': 'exponent'}, 'type': 'function'}], 'refusal': None}, response_metadata={'token_usage': {'completion_tokens': 18, 'prompt_tokens': 166, 'total_tokens': 184, 'completion_tokens_details': {'accepted_prediction_tokens': 0, 'audio_tokens': 0, 'reasoning_tokens': 0, 'rejected_prediction_tokens': 0}, 'prompt_tokens_details': {'audio_tokens': 0, 'cached_tokens': 0}}, 'model_name': 'gpt-4o-2024-08-06', 'system_fingerprint': 'fp_65564d8ba5', 'id': 'chatcmpl-CUwCNDPek9VjkhDeBQ5rum5zBdNTt', 'service_tier': 'default', 'finish_reason': 'tool_calls', 'logprobs': None}, id='run--639a5da3-c8a4-4d84-a72a-f3b0dbc136bd-0', tool_calls=[{'name': 'exponent', 'args': {'a': 3, 'b': 5}, 'id': 'call_7PR83z5se4gbHcUaFkSs15o5', 'type': 'tool_call'}], usage_metadata={'input_tokens': 166, 'output_tokens': 18, 'total_tokens': 184, 'input_token_details': {'audio': 0, 'cache_read': 0}, 'output_token_details': {'audio': 0, 'reasoning': 0}})]}),), interrupts=())"
      ]
     },
     "execution_count": 8,
     "metadata": {},
     "output_type": "execute_result"
    }
   ],
   "source": [
    "all_states[-2]"
   ]
  },
  {
   "cell_type": "code",
   "execution_count": 9,
   "id": "3688e511-a440-4330-a450-e5ed889c3b30",
   "metadata": {},
   "outputs": [],
   "source": [
    "to_replay = all_states[-2]"
   ]
  },
  {
   "cell_type": "code",
   "execution_count": 10,
   "id": "72adf296-d519-4bdc-af03-3b29799e9534",
   "metadata": {},
   "outputs": [
    {
     "data": {
      "text/plain": [
       "StateSnapshot(values={'messages': [HumanMessage(content='Raise 3 to the power of 5', additional_kwargs={}, response_metadata={}, id='633bff36-e844-405e-94f7-48627b396cd5')]}, next=('assistant',), config={'configurable': {'thread_id': '1', 'checkpoint_ns': '', 'checkpoint_id': '1f0b279a-3223-659a-8000-0f1635b2f063'}}, metadata={'source': 'loop', 'step': 0, 'parents': {}}, created_at='2025-10-26T14:39:54.620047+00:00', parent_config={'configurable': {'thread_id': '1', 'checkpoint_ns': '', 'checkpoint_id': '1f0b279a-3216-6f4e-bfff-dc04aaf3808d'}}, tasks=(PregelTask(id='618ff22b-c203-baf6-50ad-040da90ffb48', name='assistant', path=('__pregel_pull', 'assistant'), error=None, interrupts=(), state=None, result={'messages': [AIMessage(content='', additional_kwargs={'tool_calls': [{'id': 'call_7PR83z5se4gbHcUaFkSs15o5', 'function': {'arguments': '{\"a\":3,\"b\":5}', 'name': 'exponent'}, 'type': 'function'}], 'refusal': None}, response_metadata={'token_usage': {'completion_tokens': 18, 'prompt_tokens': 166, 'total_tokens': 184, 'completion_tokens_details': {'accepted_prediction_tokens': 0, 'audio_tokens': 0, 'reasoning_tokens': 0, 'rejected_prediction_tokens': 0}, 'prompt_tokens_details': {'audio_tokens': 0, 'cached_tokens': 0}}, 'model_name': 'gpt-4o-2024-08-06', 'system_fingerprint': 'fp_65564d8ba5', 'id': 'chatcmpl-CUwCNDPek9VjkhDeBQ5rum5zBdNTt', 'service_tier': 'default', 'finish_reason': 'tool_calls', 'logprobs': None}, id='run--639a5da3-c8a4-4d84-a72a-f3b0dbc136bd-0', tool_calls=[{'name': 'exponent', 'args': {'a': 3, 'b': 5}, 'id': 'call_7PR83z5se4gbHcUaFkSs15o5', 'type': 'tool_call'}], usage_metadata={'input_tokens': 166, 'output_tokens': 18, 'total_tokens': 184, 'input_token_details': {'audio': 0, 'cache_read': 0}, 'output_token_details': {'audio': 0, 'reasoning': 0}})]}),), interrupts=())"
      ]
     },
     "execution_count": 10,
     "metadata": {},
     "output_type": "execute_result"
    }
   ],
   "source": [
    "to_replay"
   ]
  },
  {
   "cell_type": "code",
   "execution_count": 11,
   "id": "6fe69428-f364-4330-bf5d-aa966c7f3b07",
   "metadata": {},
   "outputs": [
    {
     "data": {
      "text/plain": [
       "{'messages': [HumanMessage(content='Raise 3 to the power of 5', additional_kwargs={}, response_metadata={}, id='633bff36-e844-405e-94f7-48627b396cd5')]}"
      ]
     },
     "execution_count": 11,
     "metadata": {},
     "output_type": "execute_result"
    }
   ],
   "source": [
    "to_replay.values"
   ]
  },
  {
   "cell_type": "code",
   "execution_count": 12,
   "id": "d2f333f9-9b2b-46f6-ac3a-525f86b20f1b",
   "metadata": {},
   "outputs": [
    {
     "data": {
      "text/plain": [
       "('assistant',)"
      ]
     },
     "execution_count": 12,
     "metadata": {},
     "output_type": "execute_result"
    }
   ],
   "source": [
    "to_replay.next"
   ]
  },
  {
   "cell_type": "code",
   "execution_count": 13,
   "id": "b1298786-afa5-4277-927e-708a8629231b",
   "metadata": {},
   "outputs": [
    {
     "data": {
      "text/plain": [
       "{'configurable': {'thread_id': '1',\n",
       "  'checkpoint_ns': '',\n",
       "  'checkpoint_id': '1f0b279a-3223-659a-8000-0f1635b2f063'}}"
      ]
     },
     "execution_count": 13,
     "metadata": {},
     "output_type": "execute_result"
    }
   ],
   "source": [
    "to_replay.config"
   ]
  },
  {
   "cell_type": "code",
   "execution_count": 14,
   "id": "531b4cd1-54f6-44aa-9ffe-cf5403dad65d",
   "metadata": {},
   "outputs": [
    {
     "name": "stdout",
     "output_type": "stream",
     "text": [
      "================================\u001b[1m Human Message \u001b[0m=================================\n",
      "\n",
      "Raise 3 to the power of 5\n",
      "==================================\u001b[1m Ai Message \u001b[0m==================================\n",
      "Tool Calls:\n",
      "  exponent (call_rKQK4IPi8gnACYMZi53AnIMh)\n",
      " Call ID: call_rKQK4IPi8gnACYMZi53AnIMh\n",
      "  Args:\n",
      "    a: 3\n",
      "    b: 5\n",
      "=================================\u001b[1m Tool Message \u001b[0m=================================\n",
      "Name: exponent\n",
      "\n",
      "243\n",
      "==================================\u001b[1m Ai Message \u001b[0m==================================\n",
      "\n",
      "3 raised to the power of 5 is 243.\n"
     ]
    }
   ],
   "source": [
    "for event in graph.stream(None, to_replay.config, stream_mode=\"values\"):\n",
    "    event['messages'][-1].pretty_print()"
   ]
  },
  {
   "cell_type": "code",
   "execution_count": 15,
   "id": "cdeb5bf2-1566-4d8c-8ea5-65894e3a7038",
   "metadata": {},
   "outputs": [
    {
     "data": {
      "text/plain": [
       "[HumanMessage(content='Raise 3 to the power of 5', additional_kwargs={}, response_metadata={}, id='633bff36-e844-405e-94f7-48627b396cd5')]"
      ]
     },
     "execution_count": 15,
     "metadata": {},
     "output_type": "execute_result"
    }
   ],
   "source": [
    "to_fork = all_states[-2]\n",
    "to_fork.values[\"messages\"]"
   ]
  },
  {
   "cell_type": "code",
   "execution_count": 16,
   "id": "d1621b27-ee51-4dc3-81c4-1d05317280db",
   "metadata": {},
   "outputs": [
    {
     "data": {
      "text/plain": [
       "{'configurable': {'thread_id': '1',\n",
       "  'checkpoint_ns': '',\n",
       "  'checkpoint_id': '1f0b279a-3223-659a-8000-0f1635b2f063'}}"
      ]
     },
     "execution_count": 16,
     "metadata": {},
     "output_type": "execute_result"
    }
   ],
   "source": [
    "to_fork.config"
   ]
  },
  {
   "cell_type": "code",
   "execution_count": 17,
   "id": "0b4a918d-858a-41ac-a5d4-e99260e2d6ec",
   "metadata": {},
   "outputs": [],
   "source": [
    "fork_config = graph.update_state(\n",
    "    to_fork.config,\n",
    "    {\n",
    "        \"messages\": [HumanMessage(content='Raise 3 to the power of 6')],\n",
    "        \"id\": to_fork.values[\"messages\"][0].id\n",
    "    }\n",
    ")"
   ]
  },
  {
   "cell_type": "code",
   "execution_count": 18,
   "id": "8ff4e9bb-8221-42d1-b7d0-b0cbd5dc374a",
   "metadata": {},
   "outputs": [
    {
     "data": {
      "text/plain": [
       "{'configurable': {'thread_id': '1',\n",
       "  'checkpoint_ns': '',\n",
       "  'checkpoint_id': '1f0b279a-591a-655e-8001-0e6666ebc3c0'}}"
      ]
     },
     "execution_count": 18,
     "metadata": {},
     "output_type": "execute_result"
    }
   ],
   "source": [
    "fork_config"
   ]
  },
  {
   "cell_type": "code",
   "execution_count": 19,
   "id": "586ce86c-1257-45e9-ba30-6287932b9484",
   "metadata": {},
   "outputs": [
    {
     "data": {
      "text/plain": [
       "[HumanMessage(content='Raise 3 to the power of 5', additional_kwargs={}, response_metadata={}, id='633bff36-e844-405e-94f7-48627b396cd5'),\n",
       " AIMessage(content='', additional_kwargs={'tool_calls': [{'id': 'call_7PR83z5se4gbHcUaFkSs15o5', 'function': {'arguments': '{\"a\":3,\"b\":5}', 'name': 'exponent'}, 'type': 'function'}], 'refusal': None}, response_metadata={'token_usage': {'completion_tokens': 18, 'prompt_tokens': 166, 'total_tokens': 184, 'completion_tokens_details': {'accepted_prediction_tokens': 0, 'audio_tokens': 0, 'reasoning_tokens': 0, 'rejected_prediction_tokens': 0}, 'prompt_tokens_details': {'audio_tokens': 0, 'cached_tokens': 0}}, 'model_name': 'gpt-4o-2024-08-06', 'system_fingerprint': 'fp_65564d8ba5', 'id': 'chatcmpl-CUwCNDPek9VjkhDeBQ5rum5zBdNTt', 'service_tier': 'default', 'finish_reason': 'tool_calls', 'logprobs': None}, id='run--639a5da3-c8a4-4d84-a72a-f3b0dbc136bd-0', tool_calls=[{'name': 'exponent', 'args': {'a': 3, 'b': 5}, 'id': 'call_7PR83z5se4gbHcUaFkSs15o5', 'type': 'tool_call'}], usage_metadata={'input_tokens': 166, 'output_tokens': 18, 'total_tokens': 184, 'input_token_details': {'audio': 0, 'cache_read': 0}, 'output_token_details': {'audio': 0, 'reasoning': 0}}),\n",
       " HumanMessage(content='Raise 3 to the power of 6', additional_kwargs={}, response_metadata={}, id='31098c71-26c6-4e52-b071-93b22392bc84')]"
      ]
     },
     "execution_count": 19,
     "metadata": {},
     "output_type": "execute_result"
    }
   ],
   "source": [
    "all_states = [state for state in graph.get_state_history(thread) ]\n",
    "all_states[0].values[\"messages\"]"
   ]
  },
  {
   "cell_type": "code",
   "execution_count": 20,
   "id": "12e19798-25d8-49e8-8542-13d2b3bdf58e",
   "metadata": {},
   "outputs": [
    {
     "data": {
      "text/plain": [
       "StateSnapshot(values={'messages': [HumanMessage(content='Raise 3 to the power of 5', additional_kwargs={}, response_metadata={}, id='633bff36-e844-405e-94f7-48627b396cd5'), AIMessage(content='', additional_kwargs={'tool_calls': [{'id': 'call_7PR83z5se4gbHcUaFkSs15o5', 'function': {'arguments': '{\"a\":3,\"b\":5}', 'name': 'exponent'}, 'type': 'function'}], 'refusal': None}, response_metadata={'token_usage': {'completion_tokens': 18, 'prompt_tokens': 166, 'total_tokens': 184, 'completion_tokens_details': {'accepted_prediction_tokens': 0, 'audio_tokens': 0, 'reasoning_tokens': 0, 'rejected_prediction_tokens': 0}, 'prompt_tokens_details': {'audio_tokens': 0, 'cached_tokens': 0}}, 'model_name': 'gpt-4o-2024-08-06', 'system_fingerprint': 'fp_65564d8ba5', 'id': 'chatcmpl-CUwCNDPek9VjkhDeBQ5rum5zBdNTt', 'service_tier': 'default', 'finish_reason': 'tool_calls', 'logprobs': None}, id='run--639a5da3-c8a4-4d84-a72a-f3b0dbc136bd-0', tool_calls=[{'name': 'exponent', 'args': {'a': 3, 'b': 5}, 'id': 'call_7PR83z5se4gbHcUaFkSs15o5', 'type': 'tool_call'}], usage_metadata={'input_tokens': 166, 'output_tokens': 18, 'total_tokens': 184, 'input_token_details': {'audio': 0, 'cache_read': 0}, 'output_token_details': {'audio': 0, 'reasoning': 0}}), HumanMessage(content='Raise 3 to the power of 6', additional_kwargs={}, response_metadata={}, id='31098c71-26c6-4e52-b071-93b22392bc84')]}, next=(), config={'configurable': {'thread_id': '1', 'checkpoint_ns': '', 'checkpoint_id': '1f0b279a-591a-655e-8001-0e6666ebc3c0'}}, metadata={'source': 'update', 'step': 1, 'parents': {}}, created_at='2025-10-26T14:39:58.705801+00:00', parent_config={'configurable': {'thread_id': '1', 'checkpoint_ns': '', 'checkpoint_id': '1f0b279a-3223-659a-8000-0f1635b2f063'}}, tasks=(), interrupts=())"
      ]
     },
     "execution_count": 20,
     "metadata": {},
     "output_type": "execute_result"
    }
   ],
   "source": [
    "graph.get_state({'configurable': {'thread_id': '1'}})"
   ]
  },
  {
   "cell_type": "code",
   "execution_count": 21,
   "id": "1c49f2a8-b325-45e4-b36c-17fab1b37cc0",
   "metadata": {},
   "outputs": [
    {
     "name": "stdout",
     "output_type": "stream",
     "text": [
      "================================\u001b[1m Human Message \u001b[0m=================================\n",
      "\n",
      "Raise 3 to the power of 6\n"
     ]
    }
   ],
   "source": [
    "for event in graph.stream(None, fork_config, stream_mode=\"values\"):\n",
    "    event['messages'][-1].pretty_print()"
   ]
  },
  {
   "cell_type": "code",
   "execution_count": 22,
   "id": "132ef840-64c7-479c-ad34-3f177f4b2524",
   "metadata": {},
   "outputs": [
    {
     "data": {
      "text/plain": [
       "StateSnapshot(values={'messages': [HumanMessage(content='Raise 3 to the power of 5', additional_kwargs={}, response_metadata={}, id='633bff36-e844-405e-94f7-48627b396cd5'), AIMessage(content='', additional_kwargs={'tool_calls': [{'id': 'call_7PR83z5se4gbHcUaFkSs15o5', 'function': {'arguments': '{\"a\":3,\"b\":5}', 'name': 'exponent'}, 'type': 'function'}], 'refusal': None}, response_metadata={'token_usage': {'completion_tokens': 18, 'prompt_tokens': 166, 'total_tokens': 184, 'completion_tokens_details': {'accepted_prediction_tokens': 0, 'audio_tokens': 0, 'reasoning_tokens': 0, 'rejected_prediction_tokens': 0}, 'prompt_tokens_details': {'audio_tokens': 0, 'cached_tokens': 0}}, 'model_name': 'gpt-4o-2024-08-06', 'system_fingerprint': 'fp_65564d8ba5', 'id': 'chatcmpl-CUwCNDPek9VjkhDeBQ5rum5zBdNTt', 'service_tier': 'default', 'finish_reason': 'tool_calls', 'logprobs': None}, id='run--639a5da3-c8a4-4d84-a72a-f3b0dbc136bd-0', tool_calls=[{'name': 'exponent', 'args': {'a': 3, 'b': 5}, 'id': 'call_7PR83z5se4gbHcUaFkSs15o5', 'type': 'tool_call'}], usage_metadata={'input_tokens': 166, 'output_tokens': 18, 'total_tokens': 184, 'input_token_details': {'audio': 0, 'cache_read': 0}, 'output_token_details': {'audio': 0, 'reasoning': 0}}), HumanMessage(content='Raise 3 to the power of 6', additional_kwargs={}, response_metadata={}, id='31098c71-26c6-4e52-b071-93b22392bc84')]}, next=(), config={'configurable': {'thread_id': '1', 'checkpoint_ns': '', 'checkpoint_id': '1f0b279a-591a-655e-8001-0e6666ebc3c0'}}, metadata={'source': 'update', 'step': 1, 'parents': {}}, created_at='2025-10-26T14:39:58.705801+00:00', parent_config={'configurable': {'thread_id': '1', 'checkpoint_ns': '', 'checkpoint_id': '1f0b279a-3223-659a-8000-0f1635b2f063'}}, tasks=(), interrupts=())"
      ]
     },
     "execution_count": 22,
     "metadata": {},
     "output_type": "execute_result"
    }
   ],
   "source": [
    "graph.get_state({'configurable': {'thread_id': '1'}})"
   ]
  },
  {
   "cell_type": "code",
   "execution_count": 23,
   "id": "891defdb-746c-48e4-8efa-bb5f138dc4bd",
   "metadata": {},
   "outputs": [],
   "source": [
    "if 'google.colab' in str(get_ipython()):\n",
    "    raise Exception(\"Unfortunately LangGraph Studio is currently not supported on Google Colab\")"
   ]
  },
  {
   "cell_type": "code",
   "execution_count": 24,
   "id": "a317925d-1788-4cfc-9c12-336b17b4d859",
   "metadata": {},
   "outputs": [],
   "source": [
    "from langgraph_sdk import get_client\n",
    "client = get_client(url=\"http://127.0.0.1:2024\")"
   ]
  },
  {
   "cell_type": "code",
   "execution_count": 25,
   "id": "9d4d01da-7b64-4c92-96b7-29ec93332d0b",
   "metadata": {},
   "outputs": [
    {
     "name": "stdout",
     "output_type": "stream",
     "text": [
      "--------------------Assistant Node--------------------\n",
      "{'content': '', 'additional_kwargs': {'tool_calls': [{'id': 'call_JZ3X8RZdwjy3yii05sZaVzDD', 'function': {'arguments': '{\"a\": 3, \"b\": 3}', 'name': 'multiply'}, 'type': 'function'}, {'id': 'call_DhL6NQK4xfIOwpVhUretVCoT', 'function': {'arguments': '{\"a\": 3, \"b\": 3}', 'name': 'multiply'}, 'type': 'function'}], 'refusal': None}, 'response_metadata': {'token_usage': {'completion_tokens': 50, 'prompt_tokens': 137, 'total_tokens': 187, 'completion_tokens_details': {'accepted_prediction_tokens': 0, 'audio_tokens': 0, 'reasoning_tokens': 0, 'rejected_prediction_tokens': 0}, 'prompt_tokens_details': {'audio_tokens': 0, 'cached_tokens': 0}}, 'model_name': 'gpt-4o-2024-08-06', 'system_fingerprint': 'fp_65564d8ba5', 'id': 'chatcmpl-CUwCSGujhC4MxYcvHa5uff38jA5OG', 'service_tier': 'default', 'finish_reason': 'tool_calls', 'logprobs': None}, 'type': 'ai', 'name': None, 'id': 'run--00685f26-55ca-495e-8547-e1a5ad9018d5-0', 'example': False, 'tool_calls': [{'name': 'multiply', 'args': {'a': 3, 'b': 3}, 'id': 'call_JZ3X8RZdwjy3yii05sZaVzDD', 'type': 'tool_call'}, {'name': 'multiply', 'args': {'a': 3, 'b': 3}, 'id': 'call_DhL6NQK4xfIOwpVhUretVCoT', 'type': 'tool_call'}], 'invalid_tool_calls': [], 'usage_metadata': {'input_tokens': 137, 'output_tokens': 50, 'total_tokens': 187, 'input_token_details': {'audio': 0, 'cache_read': 0}, 'output_token_details': {'audio': 0, 'reasoning': 0}}}\n",
      "--------------------Tools Node--------------------\n",
      "{'content': '9', 'additional_kwargs': {}, 'response_metadata': {}, 'type': 'tool', 'name': 'multiply', 'id': '0444a43d-3327-4fab-90aa-c33f972d823e', 'tool_call_id': 'call_DhL6NQK4xfIOwpVhUretVCoT', 'artifact': None, 'status': 'success'}\n",
      "--------------------Assistant Node--------------------\n",
      "{'content': '', 'additional_kwargs': {'tool_calls': [{'id': 'call_S4jDzHaaCqUG1e08b0rfgeBm', 'function': {'arguments': '{\"a\": 9, \"b\": 3}', 'name': 'multiply'}, 'type': 'function'}, {'id': 'call_Fc1hSjCUprV8az1qYvXX3wqF', 'function': {'arguments': '{\"a\": 9, \"b\": 3}', 'name': 'multiply'}, 'type': 'function'}], 'refusal': None}, 'response_metadata': {'token_usage': {'completion_tokens': 50, 'prompt_tokens': 203, 'total_tokens': 253, 'completion_tokens_details': {'accepted_prediction_tokens': 0, 'audio_tokens': 0, 'reasoning_tokens': 0, 'rejected_prediction_tokens': 0}, 'prompt_tokens_details': {'audio_tokens': 0, 'cached_tokens': 0}}, 'model_name': 'gpt-4o-2024-08-06', 'system_fingerprint': 'fp_65564d8ba5', 'id': 'chatcmpl-CUwCUGS0tXPkM3WyzWjONu2Xru3Ko', 'service_tier': 'default', 'finish_reason': 'tool_calls', 'logprobs': None}, 'type': 'ai', 'name': None, 'id': 'run--89b618b4-ef36-482e-aaaf-0aee4b1a0b1f-0', 'example': False, 'tool_calls': [{'name': 'multiply', 'args': {'a': 9, 'b': 3}, 'id': 'call_S4jDzHaaCqUG1e08b0rfgeBm', 'type': 'tool_call'}, {'name': 'multiply', 'args': {'a': 9, 'b': 3}, 'id': 'call_Fc1hSjCUprV8az1qYvXX3wqF', 'type': 'tool_call'}], 'invalid_tool_calls': [], 'usage_metadata': {'input_tokens': 203, 'output_tokens': 50, 'total_tokens': 253, 'input_token_details': {'audio': 0, 'cache_read': 0}, 'output_token_details': {'audio': 0, 'reasoning': 0}}}\n",
      "--------------------Tools Node--------------------\n",
      "{'content': '27', 'additional_kwargs': {}, 'response_metadata': {}, 'type': 'tool', 'name': 'multiply', 'id': 'a06611bb-ea05-4738-8520-f0d5e23e3b52', 'tool_call_id': 'call_Fc1hSjCUprV8az1qYvXX3wqF', 'artifact': None, 'status': 'success'}\n",
      "--------------------Assistant Node--------------------\n",
      "{'content': '', 'additional_kwargs': {'tool_calls': [{'id': 'call_DyOlv5mnVjZnQhlxBynArk2G', 'function': {'arguments': '{\"a\":27,\"b\":3}', 'name': 'multiply'}, 'type': 'function'}], 'refusal': None}, 'response_metadata': {'token_usage': {'completion_tokens': 17, 'prompt_tokens': 269, 'total_tokens': 286, 'completion_tokens_details': {'accepted_prediction_tokens': 0, 'audio_tokens': 0, 'reasoning_tokens': 0, 'rejected_prediction_tokens': 0}, 'prompt_tokens_details': {'audio_tokens': 0, 'cached_tokens': 0}}, 'model_name': 'gpt-4o-2024-08-06', 'system_fingerprint': 'fp_65564d8ba5', 'id': 'chatcmpl-CUwCVSByK8BToY94OMSwya3lmd1wP', 'service_tier': 'default', 'finish_reason': 'tool_calls', 'logprobs': None}, 'type': 'ai', 'name': None, 'id': 'run--60e80c8a-c5d9-4f2b-8b13-544e8acea60b-0', 'example': False, 'tool_calls': [{'name': 'multiply', 'args': {'a': 27, 'b': 3}, 'id': 'call_DyOlv5mnVjZnQhlxBynArk2G', 'type': 'tool_call'}], 'invalid_tool_calls': [], 'usage_metadata': {'input_tokens': 269, 'output_tokens': 17, 'total_tokens': 286, 'input_token_details': {'audio': 0, 'cache_read': 0}, 'output_token_details': {'audio': 0, 'reasoning': 0}}}\n",
      "--------------------Tools Node--------------------\n",
      "{'content': '81', 'additional_kwargs': {}, 'response_metadata': {}, 'type': 'tool', 'name': 'multiply', 'id': '4f687430-bc69-4343-8516-2dcae687044d', 'tool_call_id': 'call_DyOlv5mnVjZnQhlxBynArk2G', 'artifact': None, 'status': 'success'}\n",
      "--------------------Assistant Node--------------------\n",
      "{'content': '3 raised to the power of 5 is 243.', 'additional_kwargs': {'refusal': None}, 'response_metadata': {'token_usage': {'completion_tokens': 13, 'prompt_tokens': 294, 'total_tokens': 307, 'completion_tokens_details': {'accepted_prediction_tokens': 0, 'audio_tokens': 0, 'reasoning_tokens': 0, 'rejected_prediction_tokens': 0}, 'prompt_tokens_details': {'audio_tokens': 0, 'cached_tokens': 0}}, 'model_name': 'gpt-4o-2024-08-06', 'system_fingerprint': 'fp_65564d8ba5', 'id': 'chatcmpl-CUwCWY6RpZk8nekISBRVXOy8Uj6ec', 'service_tier': 'default', 'finish_reason': 'stop', 'logprobs': None}, 'type': 'ai', 'name': None, 'id': 'run--75449465-6ad6-43eb-b75f-0bc76e6d652a-0', 'example': False, 'tool_calls': [], 'invalid_tool_calls': [], 'usage_metadata': {'input_tokens': 294, 'output_tokens': 13, 'total_tokens': 307, 'input_token_details': {'audio': 0, 'cache_read': 0}, 'output_token_details': {'audio': 0, 'reasoning': 0}}}\n"
     ]
    }
   ],
   "source": [
    "initial_input = {\"messages\": HumanMessage(content=\"Raise 3 to the power of 5\")}\n",
    "thread = await client.threads.create()\n",
    "async for chunk in client.runs.stream(\n",
    "    thread[\"thread_id\"],\n",
    "    assistant_id = \"agent\",\n",
    "    input=initial_input,\n",
    "    stream_mode=\"updates\",\n",
    "):\n",
    "    if chunk.data:\n",
    "        assisant_node = chunk.data.get('assistant', {}).get('messages', [])\n",
    "        tool_node = chunk.data.get('tools', {}).get('messages', [])\n",
    "        if assisant_node:\n",
    "            print(\"-\" * 20+\"Assistant Node\"+\"-\" * 20)\n",
    "            print(assisant_node[-1])\n",
    "        elif tool_node:\n",
    "            print(\"-\" * 20+\"Tools Node\"+\"-\" * 20)\n",
    "            print(tool_node[-1])"
   ]
  },
  {
   "cell_type": "code",
   "execution_count": 26,
   "id": "d8ecc4fd",
   "metadata": {},
   "outputs": [
    {
     "data": {
      "text/plain": [
       "{'values': {'messages': [{'content': 'Raise 3 to the power of 5',\n",
       "    'additional_kwargs': {},\n",
       "    'response_metadata': {},\n",
       "    'type': 'human',\n",
       "    'name': None,\n",
       "    'id': 'b2344038-067f-421b-89e6-a4317bc21f49',\n",
       "    'example': False}]},\n",
       " 'next': ['assistant'],\n",
       " 'tasks': [{'id': 'e3170b6c-a975-8de8-6626-ce80536a1877',\n",
       "   'name': 'assistant',\n",
       "   'path': ['__pregel_pull', 'assistant'],\n",
       "   'error': None,\n",
       "   'interrupts': [],\n",
       "   'checkpoint': None,\n",
       "   'state': None,\n",
       "   'result': {'messages': [{'content': '',\n",
       "      'additional_kwargs': {'tool_calls': [{'id': 'call_JZ3X8RZdwjy3yii05sZaVzDD',\n",
       "         'function': {'arguments': '{\"a\": 3, \"b\": 3}', 'name': 'multiply'},\n",
       "         'type': 'function'},\n",
       "        {'id': 'call_DhL6NQK4xfIOwpVhUretVCoT',\n",
       "         'function': {'arguments': '{\"a\": 3, \"b\": 3}', 'name': 'multiply'},\n",
       "         'type': 'function'}],\n",
       "       'refusal': None},\n",
       "      'response_metadata': {'token_usage': {'completion_tokens': 50,\n",
       "        'prompt_tokens': 137,\n",
       "        'total_tokens': 187,\n",
       "        'completion_tokens_details': {'accepted_prediction_tokens': 0,\n",
       "         'audio_tokens': 0,\n",
       "         'reasoning_tokens': 0,\n",
       "         'rejected_prediction_tokens': 0},\n",
       "        'prompt_tokens_details': {'audio_tokens': 0, 'cached_tokens': 0}},\n",
       "       'model_name': 'gpt-4o-2024-08-06',\n",
       "       'system_fingerprint': 'fp_65564d8ba5',\n",
       "       'id': 'chatcmpl-CUwCSGujhC4MxYcvHa5uff38jA5OG',\n",
       "       'service_tier': 'default',\n",
       "       'finish_reason': 'tool_calls',\n",
       "       'logprobs': None},\n",
       "      'type': 'ai',\n",
       "      'name': None,\n",
       "      'id': 'run--00685f26-55ca-495e-8547-e1a5ad9018d5-0',\n",
       "      'example': False,\n",
       "      'tool_calls': [{'name': 'multiply',\n",
       "        'args': {'a': 3, 'b': 3},\n",
       "        'id': 'call_JZ3X8RZdwjy3yii05sZaVzDD',\n",
       "        'type': 'tool_call'},\n",
       "       {'name': 'multiply',\n",
       "        'args': {'a': 3, 'b': 3},\n",
       "        'id': 'call_DhL6NQK4xfIOwpVhUretVCoT',\n",
       "        'type': 'tool_call'}],\n",
       "      'invalid_tool_calls': [],\n",
       "      'usage_metadata': {'input_tokens': 137,\n",
       "       'output_tokens': 50,\n",
       "       'total_tokens': 187,\n",
       "       'input_token_details': {'audio': 0, 'cache_read': 0},\n",
       "       'output_token_details': {'audio': 0, 'reasoning': 0}}}]}}],\n",
       " 'metadata': {'langgraph_auth_user': None,\n",
       "  'langgraph_auth_user_id': '',\n",
       "  'langgraph_auth_permissions': [],\n",
       "  'langgraph_request_id': '3957c76b-dab9-441c-9aec-dc5af7eacadf',\n",
       "  'graph_id': 'agent',\n",
       "  'assistant_id': 'fe096781-5601-53d2-b2f6-0d3403f7e9ca',\n",
       "  'user_id': '',\n",
       "  'created_by': 'system',\n",
       "  'run_attempt': 1,\n",
       "  'langgraph_version': '0.6.10',\n",
       "  'langgraph_api_version': '0.4.39',\n",
       "  'langgraph_plan': 'developer',\n",
       "  'langgraph_host': 'self-hosted',\n",
       "  'langgraph_api_url': 'http://127.0.0.1:2024',\n",
       "  'run_id': '019a20f6-3b5c-73bc-9b68-6a7aa59d76a1',\n",
       "  'thread_id': 'd72bfe20-83ab-4845-9823-8aea5d3f5971',\n",
       "  'source': 'loop',\n",
       "  'step': 0,\n",
       "  'parents': {}},\n",
       " 'created_at': '2025-10-26T14:40:00.096047+00:00',\n",
       " 'checkpoint': {'checkpoint_id': '1f0b279a-665c-67dd-8000-121958412fd2',\n",
       "  'thread_id': 'd72bfe20-83ab-4845-9823-8aea5d3f5971',\n",
       "  'checkpoint_ns': ''},\n",
       " 'parent_checkpoint': {'checkpoint_id': '1f0b279a-6650-6fb5-bfff-a5a22629b31f',\n",
       "  'thread_id': 'd72bfe20-83ab-4845-9823-8aea5d3f5971',\n",
       "  'checkpoint_ns': ''},\n",
       " 'interrupts': [],\n",
       " 'checkpoint_id': '1f0b279a-665c-67dd-8000-121958412fd2',\n",
       " 'parent_checkpoint_id': '1f0b279a-6650-6fb5-bfff-a5a22629b31f'}"
      ]
     },
     "execution_count": 26,
     "metadata": {},
     "output_type": "execute_result"
    }
   ],
   "source": [
    "states = await client.threads.get_history(thread['thread_id'])\n",
    "to_replay = states[-2]\n",
    "to_replay"
   ]
  },
  {
   "cell_type": "code",
   "execution_count": 27,
   "id": "325e8272",
   "metadata": {},
   "outputs": [
    {
     "name": "stdout",
     "output_type": "stream",
     "text": [
      "Receiving new event of type: metadata...\n",
      "{'run_id': '019a20f6-5137-7077-8327-825bf9d7d17d', 'attempt': 1}\n",
      "\n",
      "\n",
      "\n",
      "Receiving new event of type: values...\n",
      "{'messages': [{'content': 'Raise 3 to the power of 5', 'additional_kwargs': {}, 'response_metadata': {}, 'type': 'human', 'name': None, 'id': 'b2344038-067f-421b-89e6-a4317bc21f49', 'example': False}]}\n",
      "\n",
      "\n",
      "\n",
      "Receiving new event of type: values...\n",
      "{'messages': [{'content': 'Raise 3 to the power of 5', 'additional_kwargs': {}, 'response_metadata': {}, 'type': 'human', 'name': None, 'id': 'b2344038-067f-421b-89e6-a4317bc21f49', 'example': False}, {'content': '', 'additional_kwargs': {'tool_calls': [{'id': 'call_rdiGGGwNiNx29fAZZqofecyT', 'function': {'arguments': '{\"a\": 3, \"b\": 3}', 'name': 'multiply'}, 'type': 'function'}, {'id': 'call_7dnyLG840C9MkliMMnhH8gRV', 'function': {'arguments': '{\"a\": 3, \"b\": 3}', 'name': 'multiply'}, 'type': 'function'}], 'refusal': None}, 'response_metadata': {'token_usage': {'completion_tokens': 50, 'prompt_tokens': 137, 'total_tokens': 187, 'completion_tokens_details': {'accepted_prediction_tokens': 0, 'audio_tokens': 0, 'reasoning_tokens': 0, 'rejected_prediction_tokens': 0}, 'prompt_tokens_details': {'audio_tokens': 0, 'cached_tokens': 0}}, 'model_name': 'gpt-4o-2024-08-06', 'system_fingerprint': 'fp_65564d8ba5', 'id': 'chatcmpl-CUwCXZvgSql75AuELVptuwS1iwdCD', 'service_tier': 'default', 'finish_reason': 'tool_calls', 'logprobs': None}, 'type': 'ai', 'name': None, 'id': 'run--4ae1dc21-abaa-4450-a0d6-f6cecf6edf36-0', 'example': False, 'tool_calls': [{'name': 'multiply', 'args': {'a': 3, 'b': 3}, 'id': 'call_rdiGGGwNiNx29fAZZqofecyT', 'type': 'tool_call'}, {'name': 'multiply', 'args': {'a': 3, 'b': 3}, 'id': 'call_7dnyLG840C9MkliMMnhH8gRV', 'type': 'tool_call'}], 'invalid_tool_calls': [], 'usage_metadata': {'input_tokens': 137, 'output_tokens': 50, 'total_tokens': 187, 'input_token_details': {'audio': 0, 'cache_read': 0}, 'output_token_details': {'audio': 0, 'reasoning': 0}}}]}\n",
      "\n",
      "\n",
      "\n",
      "Receiving new event of type: values...\n",
      "{'messages': [{'content': 'Raise 3 to the power of 5', 'additional_kwargs': {}, 'response_metadata': {}, 'type': 'human', 'name': None, 'id': 'b2344038-067f-421b-89e6-a4317bc21f49', 'example': False}, {'content': '', 'additional_kwargs': {'tool_calls': [{'id': 'call_rdiGGGwNiNx29fAZZqofecyT', 'function': {'arguments': '{\"a\": 3, \"b\": 3}', 'name': 'multiply'}, 'type': 'function'}, {'id': 'call_7dnyLG840C9MkliMMnhH8gRV', 'function': {'arguments': '{\"a\": 3, \"b\": 3}', 'name': 'multiply'}, 'type': 'function'}], 'refusal': None}, 'response_metadata': {'token_usage': {'completion_tokens': 50, 'prompt_tokens': 137, 'total_tokens': 187, 'completion_tokens_details': {'accepted_prediction_tokens': 0, 'audio_tokens': 0, 'reasoning_tokens': 0, 'rejected_prediction_tokens': 0}, 'prompt_tokens_details': {'audio_tokens': 0, 'cached_tokens': 0}}, 'model_name': 'gpt-4o-2024-08-06', 'system_fingerprint': 'fp_65564d8ba5', 'id': 'chatcmpl-CUwCXZvgSql75AuELVptuwS1iwdCD', 'service_tier': 'default', 'finish_reason': 'tool_calls', 'logprobs': None}, 'type': 'ai', 'name': None, 'id': 'run--4ae1dc21-abaa-4450-a0d6-f6cecf6edf36-0', 'example': False, 'tool_calls': [{'name': 'multiply', 'args': {'a': 3, 'b': 3}, 'id': 'call_rdiGGGwNiNx29fAZZqofecyT', 'type': 'tool_call'}, {'name': 'multiply', 'args': {'a': 3, 'b': 3}, 'id': 'call_7dnyLG840C9MkliMMnhH8gRV', 'type': 'tool_call'}], 'invalid_tool_calls': [], 'usage_metadata': {'input_tokens': 137, 'output_tokens': 50, 'total_tokens': 187, 'input_token_details': {'audio': 0, 'cache_read': 0}, 'output_token_details': {'audio': 0, 'reasoning': 0}}}, {'content': '9', 'additional_kwargs': {}, 'response_metadata': {}, 'type': 'tool', 'name': 'multiply', 'id': '4e68d6e3-e67e-4b32-98d8-c30b4a3fd972', 'tool_call_id': 'call_rdiGGGwNiNx29fAZZqofecyT', 'artifact': None, 'status': 'success'}, {'content': '9', 'additional_kwargs': {}, 'response_metadata': {}, 'type': 'tool', 'name': 'multiply', 'id': '0d53529c-b8c7-4226-ad0f-e2e2580ae0a0', 'tool_call_id': 'call_7dnyLG840C9MkliMMnhH8gRV', 'artifact': None, 'status': 'success'}]}\n",
      "\n",
      "\n",
      "\n",
      "Receiving new event of type: values...\n",
      "{'messages': [{'content': 'Raise 3 to the power of 5', 'additional_kwargs': {}, 'response_metadata': {}, 'type': 'human', 'name': None, 'id': 'b2344038-067f-421b-89e6-a4317bc21f49', 'example': False}, {'content': '', 'additional_kwargs': {'tool_calls': [{'id': 'call_rdiGGGwNiNx29fAZZqofecyT', 'function': {'arguments': '{\"a\": 3, \"b\": 3}', 'name': 'multiply'}, 'type': 'function'}, {'id': 'call_7dnyLG840C9MkliMMnhH8gRV', 'function': {'arguments': '{\"a\": 3, \"b\": 3}', 'name': 'multiply'}, 'type': 'function'}], 'refusal': None}, 'response_metadata': {'token_usage': {'completion_tokens': 50, 'prompt_tokens': 137, 'total_tokens': 187, 'completion_tokens_details': {'accepted_prediction_tokens': 0, 'audio_tokens': 0, 'reasoning_tokens': 0, 'rejected_prediction_tokens': 0}, 'prompt_tokens_details': {'audio_tokens': 0, 'cached_tokens': 0}}, 'model_name': 'gpt-4o-2024-08-06', 'system_fingerprint': 'fp_65564d8ba5', 'id': 'chatcmpl-CUwCXZvgSql75AuELVptuwS1iwdCD', 'service_tier': 'default', 'finish_reason': 'tool_calls', 'logprobs': None}, 'type': 'ai', 'name': None, 'id': 'run--4ae1dc21-abaa-4450-a0d6-f6cecf6edf36-0', 'example': False, 'tool_calls': [{'name': 'multiply', 'args': {'a': 3, 'b': 3}, 'id': 'call_rdiGGGwNiNx29fAZZqofecyT', 'type': 'tool_call'}, {'name': 'multiply', 'args': {'a': 3, 'b': 3}, 'id': 'call_7dnyLG840C9MkliMMnhH8gRV', 'type': 'tool_call'}], 'invalid_tool_calls': [], 'usage_metadata': {'input_tokens': 137, 'output_tokens': 50, 'total_tokens': 187, 'input_token_details': {'audio': 0, 'cache_read': 0}, 'output_token_details': {'audio': 0, 'reasoning': 0}}}, {'content': '9', 'additional_kwargs': {}, 'response_metadata': {}, 'type': 'tool', 'name': 'multiply', 'id': '4e68d6e3-e67e-4b32-98d8-c30b4a3fd972', 'tool_call_id': 'call_rdiGGGwNiNx29fAZZqofecyT', 'artifact': None, 'status': 'success'}, {'content': '9', 'additional_kwargs': {}, 'response_metadata': {}, 'type': 'tool', 'name': 'multiply', 'id': '0d53529c-b8c7-4226-ad0f-e2e2580ae0a0', 'tool_call_id': 'call_7dnyLG840C9MkliMMnhH8gRV', 'artifact': None, 'status': 'success'}, {'content': '', 'additional_kwargs': {'tool_calls': [{'id': 'call_TO3E7aebgTF3iAq8OZizBJ1S', 'function': {'arguments': '{\"a\": 9, \"b\": 3}', 'name': 'multiply'}, 'type': 'function'}, {'id': 'call_CCDvwBKftf9U3Fdrr06KGh0X', 'function': {'arguments': '{\"a\": 9, \"b\": 3}', 'name': 'multiply'}, 'type': 'function'}], 'refusal': None}, 'response_metadata': {'token_usage': {'completion_tokens': 50, 'prompt_tokens': 203, 'total_tokens': 253, 'completion_tokens_details': {'accepted_prediction_tokens': 0, 'audio_tokens': 0, 'reasoning_tokens': 0, 'rejected_prediction_tokens': 0}, 'prompt_tokens_details': {'audio_tokens': 0, 'cached_tokens': 0}}, 'model_name': 'gpt-4o-2024-08-06', 'system_fingerprint': 'fp_65564d8ba5', 'id': 'chatcmpl-CUwCZZ6Cc3ZkD5JYvqfzd3oWrBW5X', 'service_tier': 'default', 'finish_reason': 'tool_calls', 'logprobs': None}, 'type': 'ai', 'name': None, 'id': 'run--44c978e6-777f-4124-b1b7-f2c8bf4b967f-0', 'example': False, 'tool_calls': [{'name': 'multiply', 'args': {'a': 9, 'b': 3}, 'id': 'call_TO3E7aebgTF3iAq8OZizBJ1S', 'type': 'tool_call'}, {'name': 'multiply', 'args': {'a': 9, 'b': 3}, 'id': 'call_CCDvwBKftf9U3Fdrr06KGh0X', 'type': 'tool_call'}], 'invalid_tool_calls': [], 'usage_metadata': {'input_tokens': 203, 'output_tokens': 50, 'total_tokens': 253, 'input_token_details': {'audio': 0, 'cache_read': 0}, 'output_token_details': {'audio': 0, 'reasoning': 0}}}]}\n",
      "\n",
      "\n",
      "\n",
      "Receiving new event of type: values...\n",
      "{'messages': [{'content': 'Raise 3 to the power of 5', 'additional_kwargs': {}, 'response_metadata': {}, 'type': 'human', 'name': None, 'id': 'b2344038-067f-421b-89e6-a4317bc21f49', 'example': False}, {'content': '', 'additional_kwargs': {'tool_calls': [{'id': 'call_rdiGGGwNiNx29fAZZqofecyT', 'function': {'arguments': '{\"a\": 3, \"b\": 3}', 'name': 'multiply'}, 'type': 'function'}, {'id': 'call_7dnyLG840C9MkliMMnhH8gRV', 'function': {'arguments': '{\"a\": 3, \"b\": 3}', 'name': 'multiply'}, 'type': 'function'}], 'refusal': None}, 'response_metadata': {'token_usage': {'completion_tokens': 50, 'prompt_tokens': 137, 'total_tokens': 187, 'completion_tokens_details': {'accepted_prediction_tokens': 0, 'audio_tokens': 0, 'reasoning_tokens': 0, 'rejected_prediction_tokens': 0}, 'prompt_tokens_details': {'audio_tokens': 0, 'cached_tokens': 0}}, 'model_name': 'gpt-4o-2024-08-06', 'system_fingerprint': 'fp_65564d8ba5', 'id': 'chatcmpl-CUwCXZvgSql75AuELVptuwS1iwdCD', 'service_tier': 'default', 'finish_reason': 'tool_calls', 'logprobs': None}, 'type': 'ai', 'name': None, 'id': 'run--4ae1dc21-abaa-4450-a0d6-f6cecf6edf36-0', 'example': False, 'tool_calls': [{'name': 'multiply', 'args': {'a': 3, 'b': 3}, 'id': 'call_rdiGGGwNiNx29fAZZqofecyT', 'type': 'tool_call'}, {'name': 'multiply', 'args': {'a': 3, 'b': 3}, 'id': 'call_7dnyLG840C9MkliMMnhH8gRV', 'type': 'tool_call'}], 'invalid_tool_calls': [], 'usage_metadata': {'input_tokens': 137, 'output_tokens': 50, 'total_tokens': 187, 'input_token_details': {'audio': 0, 'cache_read': 0}, 'output_token_details': {'audio': 0, 'reasoning': 0}}}, {'content': '9', 'additional_kwargs': {}, 'response_metadata': {}, 'type': 'tool', 'name': 'multiply', 'id': '4e68d6e3-e67e-4b32-98d8-c30b4a3fd972', 'tool_call_id': 'call_rdiGGGwNiNx29fAZZqofecyT', 'artifact': None, 'status': 'success'}, {'content': '9', 'additional_kwargs': {}, 'response_metadata': {}, 'type': 'tool', 'name': 'multiply', 'id': '0d53529c-b8c7-4226-ad0f-e2e2580ae0a0', 'tool_call_id': 'call_7dnyLG840C9MkliMMnhH8gRV', 'artifact': None, 'status': 'success'}, {'content': '', 'additional_kwargs': {'tool_calls': [{'id': 'call_TO3E7aebgTF3iAq8OZizBJ1S', 'function': {'arguments': '{\"a\": 9, \"b\": 3}', 'name': 'multiply'}, 'type': 'function'}, {'id': 'call_CCDvwBKftf9U3Fdrr06KGh0X', 'function': {'arguments': '{\"a\": 9, \"b\": 3}', 'name': 'multiply'}, 'type': 'function'}], 'refusal': None}, 'response_metadata': {'token_usage': {'completion_tokens': 50, 'prompt_tokens': 203, 'total_tokens': 253, 'completion_tokens_details': {'accepted_prediction_tokens': 0, 'audio_tokens': 0, 'reasoning_tokens': 0, 'rejected_prediction_tokens': 0}, 'prompt_tokens_details': {'audio_tokens': 0, 'cached_tokens': 0}}, 'model_name': 'gpt-4o-2024-08-06', 'system_fingerprint': 'fp_65564d8ba5', 'id': 'chatcmpl-CUwCZZ6Cc3ZkD5JYvqfzd3oWrBW5X', 'service_tier': 'default', 'finish_reason': 'tool_calls', 'logprobs': None}, 'type': 'ai', 'name': None, 'id': 'run--44c978e6-777f-4124-b1b7-f2c8bf4b967f-0', 'example': False, 'tool_calls': [{'name': 'multiply', 'args': {'a': 9, 'b': 3}, 'id': 'call_TO3E7aebgTF3iAq8OZizBJ1S', 'type': 'tool_call'}, {'name': 'multiply', 'args': {'a': 9, 'b': 3}, 'id': 'call_CCDvwBKftf9U3Fdrr06KGh0X', 'type': 'tool_call'}], 'invalid_tool_calls': [], 'usage_metadata': {'input_tokens': 203, 'output_tokens': 50, 'total_tokens': 253, 'input_token_details': {'audio': 0, 'cache_read': 0}, 'output_token_details': {'audio': 0, 'reasoning': 0}}}, {'content': '27', 'additional_kwargs': {}, 'response_metadata': {}, 'type': 'tool', 'name': 'multiply', 'id': '38a7c022-46b5-4975-812d-d026d8eb759c', 'tool_call_id': 'call_TO3E7aebgTF3iAq8OZizBJ1S', 'artifact': None, 'status': 'success'}, {'content': '27', 'additional_kwargs': {}, 'response_metadata': {}, 'type': 'tool', 'name': 'multiply', 'id': 'c5015a3d-fb5a-4485-b0df-2b962027678e', 'tool_call_id': 'call_CCDvwBKftf9U3Fdrr06KGh0X', 'artifact': None, 'status': 'success'}]}\n",
      "\n",
      "\n",
      "\n",
      "Receiving new event of type: values...\n",
      "{'messages': [{'content': 'Raise 3 to the power of 5', 'additional_kwargs': {}, 'response_metadata': {}, 'type': 'human', 'name': None, 'id': 'b2344038-067f-421b-89e6-a4317bc21f49', 'example': False}, {'content': '', 'additional_kwargs': {'tool_calls': [{'id': 'call_rdiGGGwNiNx29fAZZqofecyT', 'function': {'arguments': '{\"a\": 3, \"b\": 3}', 'name': 'multiply'}, 'type': 'function'}, {'id': 'call_7dnyLG840C9MkliMMnhH8gRV', 'function': {'arguments': '{\"a\": 3, \"b\": 3}', 'name': 'multiply'}, 'type': 'function'}], 'refusal': None}, 'response_metadata': {'token_usage': {'completion_tokens': 50, 'prompt_tokens': 137, 'total_tokens': 187, 'completion_tokens_details': {'accepted_prediction_tokens': 0, 'audio_tokens': 0, 'reasoning_tokens': 0, 'rejected_prediction_tokens': 0}, 'prompt_tokens_details': {'audio_tokens': 0, 'cached_tokens': 0}}, 'model_name': 'gpt-4o-2024-08-06', 'system_fingerprint': 'fp_65564d8ba5', 'id': 'chatcmpl-CUwCXZvgSql75AuELVptuwS1iwdCD', 'service_tier': 'default', 'finish_reason': 'tool_calls', 'logprobs': None}, 'type': 'ai', 'name': None, 'id': 'run--4ae1dc21-abaa-4450-a0d6-f6cecf6edf36-0', 'example': False, 'tool_calls': [{'name': 'multiply', 'args': {'a': 3, 'b': 3}, 'id': 'call_rdiGGGwNiNx29fAZZqofecyT', 'type': 'tool_call'}, {'name': 'multiply', 'args': {'a': 3, 'b': 3}, 'id': 'call_7dnyLG840C9MkliMMnhH8gRV', 'type': 'tool_call'}], 'invalid_tool_calls': [], 'usage_metadata': {'input_tokens': 137, 'output_tokens': 50, 'total_tokens': 187, 'input_token_details': {'audio': 0, 'cache_read': 0}, 'output_token_details': {'audio': 0, 'reasoning': 0}}}, {'content': '9', 'additional_kwargs': {}, 'response_metadata': {}, 'type': 'tool', 'name': 'multiply', 'id': '4e68d6e3-e67e-4b32-98d8-c30b4a3fd972', 'tool_call_id': 'call_rdiGGGwNiNx29fAZZqofecyT', 'artifact': None, 'status': 'success'}, {'content': '9', 'additional_kwargs': {}, 'response_metadata': {}, 'type': 'tool', 'name': 'multiply', 'id': '0d53529c-b8c7-4226-ad0f-e2e2580ae0a0', 'tool_call_id': 'call_7dnyLG840C9MkliMMnhH8gRV', 'artifact': None, 'status': 'success'}, {'content': '', 'additional_kwargs': {'tool_calls': [{'id': 'call_TO3E7aebgTF3iAq8OZizBJ1S', 'function': {'arguments': '{\"a\": 9, \"b\": 3}', 'name': 'multiply'}, 'type': 'function'}, {'id': 'call_CCDvwBKftf9U3Fdrr06KGh0X', 'function': {'arguments': '{\"a\": 9, \"b\": 3}', 'name': 'multiply'}, 'type': 'function'}], 'refusal': None}, 'response_metadata': {'token_usage': {'completion_tokens': 50, 'prompt_tokens': 203, 'total_tokens': 253, 'completion_tokens_details': {'accepted_prediction_tokens': 0, 'audio_tokens': 0, 'reasoning_tokens': 0, 'rejected_prediction_tokens': 0}, 'prompt_tokens_details': {'audio_tokens': 0, 'cached_tokens': 0}}, 'model_name': 'gpt-4o-2024-08-06', 'system_fingerprint': 'fp_65564d8ba5', 'id': 'chatcmpl-CUwCZZ6Cc3ZkD5JYvqfzd3oWrBW5X', 'service_tier': 'default', 'finish_reason': 'tool_calls', 'logprobs': None}, 'type': 'ai', 'name': None, 'id': 'run--44c978e6-777f-4124-b1b7-f2c8bf4b967f-0', 'example': False, 'tool_calls': [{'name': 'multiply', 'args': {'a': 9, 'b': 3}, 'id': 'call_TO3E7aebgTF3iAq8OZizBJ1S', 'type': 'tool_call'}, {'name': 'multiply', 'args': {'a': 9, 'b': 3}, 'id': 'call_CCDvwBKftf9U3Fdrr06KGh0X', 'type': 'tool_call'}], 'invalid_tool_calls': [], 'usage_metadata': {'input_tokens': 203, 'output_tokens': 50, 'total_tokens': 253, 'input_token_details': {'audio': 0, 'cache_read': 0}, 'output_token_details': {'audio': 0, 'reasoning': 0}}}, {'content': '27', 'additional_kwargs': {}, 'response_metadata': {}, 'type': 'tool', 'name': 'multiply', 'id': '38a7c022-46b5-4975-812d-d026d8eb759c', 'tool_call_id': 'call_TO3E7aebgTF3iAq8OZizBJ1S', 'artifact': None, 'status': 'success'}, {'content': '27', 'additional_kwargs': {}, 'response_metadata': {}, 'type': 'tool', 'name': 'multiply', 'id': 'c5015a3d-fb5a-4485-b0df-2b962027678e', 'tool_call_id': 'call_CCDvwBKftf9U3Fdrr06KGh0X', 'artifact': None, 'status': 'success'}, {'content': '', 'additional_kwargs': {'tool_calls': [{'id': 'call_TkpUUYjHQPe2x81W0GZiSL5I', 'function': {'arguments': '{\"a\":27,\"b\":3}', 'name': 'multiply'}, 'type': 'function'}], 'refusal': None}, 'response_metadata': {'token_usage': {'completion_tokens': 17, 'prompt_tokens': 269, 'total_tokens': 286, 'completion_tokens_details': {'accepted_prediction_tokens': 0, 'audio_tokens': 0, 'reasoning_tokens': 0, 'rejected_prediction_tokens': 0}, 'prompt_tokens_details': {'audio_tokens': 0, 'cached_tokens': 0}}, 'model_name': 'gpt-4o-2024-08-06', 'system_fingerprint': 'fp_65564d8ba5', 'id': 'chatcmpl-CUwCacC5gn6BTK2GFkk5NhQB4uim3', 'service_tier': 'default', 'finish_reason': 'tool_calls', 'logprobs': None}, 'type': 'ai', 'name': None, 'id': 'run--21c7a85d-881b-43b1-9437-f4ad7f47abc2-0', 'example': False, 'tool_calls': [{'name': 'multiply', 'args': {'a': 27, 'b': 3}, 'id': 'call_TkpUUYjHQPe2x81W0GZiSL5I', 'type': 'tool_call'}], 'invalid_tool_calls': [], 'usage_metadata': {'input_tokens': 269, 'output_tokens': 17, 'total_tokens': 286, 'input_token_details': {'audio': 0, 'cache_read': 0}, 'output_token_details': {'audio': 0, 'reasoning': 0}}}]}\n",
      "\n",
      "\n",
      "\n",
      "Receiving new event of type: values...\n",
      "{'messages': [{'content': 'Raise 3 to the power of 5', 'additional_kwargs': {}, 'response_metadata': {}, 'type': 'human', 'name': None, 'id': 'b2344038-067f-421b-89e6-a4317bc21f49', 'example': False}, {'content': '', 'additional_kwargs': {'tool_calls': [{'id': 'call_rdiGGGwNiNx29fAZZqofecyT', 'function': {'arguments': '{\"a\": 3, \"b\": 3}', 'name': 'multiply'}, 'type': 'function'}, {'id': 'call_7dnyLG840C9MkliMMnhH8gRV', 'function': {'arguments': '{\"a\": 3, \"b\": 3}', 'name': 'multiply'}, 'type': 'function'}], 'refusal': None}, 'response_metadata': {'token_usage': {'completion_tokens': 50, 'prompt_tokens': 137, 'total_tokens': 187, 'completion_tokens_details': {'accepted_prediction_tokens': 0, 'audio_tokens': 0, 'reasoning_tokens': 0, 'rejected_prediction_tokens': 0}, 'prompt_tokens_details': {'audio_tokens': 0, 'cached_tokens': 0}}, 'model_name': 'gpt-4o-2024-08-06', 'system_fingerprint': 'fp_65564d8ba5', 'id': 'chatcmpl-CUwCXZvgSql75AuELVptuwS1iwdCD', 'service_tier': 'default', 'finish_reason': 'tool_calls', 'logprobs': None}, 'type': 'ai', 'name': None, 'id': 'run--4ae1dc21-abaa-4450-a0d6-f6cecf6edf36-0', 'example': False, 'tool_calls': [{'name': 'multiply', 'args': {'a': 3, 'b': 3}, 'id': 'call_rdiGGGwNiNx29fAZZqofecyT', 'type': 'tool_call'}, {'name': 'multiply', 'args': {'a': 3, 'b': 3}, 'id': 'call_7dnyLG840C9MkliMMnhH8gRV', 'type': 'tool_call'}], 'invalid_tool_calls': [], 'usage_metadata': {'input_tokens': 137, 'output_tokens': 50, 'total_tokens': 187, 'input_token_details': {'audio': 0, 'cache_read': 0}, 'output_token_details': {'audio': 0, 'reasoning': 0}}}, {'content': '9', 'additional_kwargs': {}, 'response_metadata': {}, 'type': 'tool', 'name': 'multiply', 'id': '4e68d6e3-e67e-4b32-98d8-c30b4a3fd972', 'tool_call_id': 'call_rdiGGGwNiNx29fAZZqofecyT', 'artifact': None, 'status': 'success'}, {'content': '9', 'additional_kwargs': {}, 'response_metadata': {}, 'type': 'tool', 'name': 'multiply', 'id': '0d53529c-b8c7-4226-ad0f-e2e2580ae0a0', 'tool_call_id': 'call_7dnyLG840C9MkliMMnhH8gRV', 'artifact': None, 'status': 'success'}, {'content': '', 'additional_kwargs': {'tool_calls': [{'id': 'call_TO3E7aebgTF3iAq8OZizBJ1S', 'function': {'arguments': '{\"a\": 9, \"b\": 3}', 'name': 'multiply'}, 'type': 'function'}, {'id': 'call_CCDvwBKftf9U3Fdrr06KGh0X', 'function': {'arguments': '{\"a\": 9, \"b\": 3}', 'name': 'multiply'}, 'type': 'function'}], 'refusal': None}, 'response_metadata': {'token_usage': {'completion_tokens': 50, 'prompt_tokens': 203, 'total_tokens': 253, 'completion_tokens_details': {'accepted_prediction_tokens': 0, 'audio_tokens': 0, 'reasoning_tokens': 0, 'rejected_prediction_tokens': 0}, 'prompt_tokens_details': {'audio_tokens': 0, 'cached_tokens': 0}}, 'model_name': 'gpt-4o-2024-08-06', 'system_fingerprint': 'fp_65564d8ba5', 'id': 'chatcmpl-CUwCZZ6Cc3ZkD5JYvqfzd3oWrBW5X', 'service_tier': 'default', 'finish_reason': 'tool_calls', 'logprobs': None}, 'type': 'ai', 'name': None, 'id': 'run--44c978e6-777f-4124-b1b7-f2c8bf4b967f-0', 'example': False, 'tool_calls': [{'name': 'multiply', 'args': {'a': 9, 'b': 3}, 'id': 'call_TO3E7aebgTF3iAq8OZizBJ1S', 'type': 'tool_call'}, {'name': 'multiply', 'args': {'a': 9, 'b': 3}, 'id': 'call_CCDvwBKftf9U3Fdrr06KGh0X', 'type': 'tool_call'}], 'invalid_tool_calls': [], 'usage_metadata': {'input_tokens': 203, 'output_tokens': 50, 'total_tokens': 253, 'input_token_details': {'audio': 0, 'cache_read': 0}, 'output_token_details': {'audio': 0, 'reasoning': 0}}}, {'content': '27', 'additional_kwargs': {}, 'response_metadata': {}, 'type': 'tool', 'name': 'multiply', 'id': '38a7c022-46b5-4975-812d-d026d8eb759c', 'tool_call_id': 'call_TO3E7aebgTF3iAq8OZizBJ1S', 'artifact': None, 'status': 'success'}, {'content': '27', 'additional_kwargs': {}, 'response_metadata': {}, 'type': 'tool', 'name': 'multiply', 'id': 'c5015a3d-fb5a-4485-b0df-2b962027678e', 'tool_call_id': 'call_CCDvwBKftf9U3Fdrr06KGh0X', 'artifact': None, 'status': 'success'}, {'content': '', 'additional_kwargs': {'tool_calls': [{'id': 'call_TkpUUYjHQPe2x81W0GZiSL5I', 'function': {'arguments': '{\"a\":27,\"b\":3}', 'name': 'multiply'}, 'type': 'function'}], 'refusal': None}, 'response_metadata': {'token_usage': {'completion_tokens': 17, 'prompt_tokens': 269, 'total_tokens': 286, 'completion_tokens_details': {'accepted_prediction_tokens': 0, 'audio_tokens': 0, 'reasoning_tokens': 0, 'rejected_prediction_tokens': 0}, 'prompt_tokens_details': {'audio_tokens': 0, 'cached_tokens': 0}}, 'model_name': 'gpt-4o-2024-08-06', 'system_fingerprint': 'fp_65564d8ba5', 'id': 'chatcmpl-CUwCacC5gn6BTK2GFkk5NhQB4uim3', 'service_tier': 'default', 'finish_reason': 'tool_calls', 'logprobs': None}, 'type': 'ai', 'name': None, 'id': 'run--21c7a85d-881b-43b1-9437-f4ad7f47abc2-0', 'example': False, 'tool_calls': [{'name': 'multiply', 'args': {'a': 27, 'b': 3}, 'id': 'call_TkpUUYjHQPe2x81W0GZiSL5I', 'type': 'tool_call'}], 'invalid_tool_calls': [], 'usage_metadata': {'input_tokens': 269, 'output_tokens': 17, 'total_tokens': 286, 'input_token_details': {'audio': 0, 'cache_read': 0}, 'output_token_details': {'audio': 0, 'reasoning': 0}}}, {'content': '81', 'additional_kwargs': {}, 'response_metadata': {}, 'type': 'tool', 'name': 'multiply', 'id': 'd4a1eabf-d82b-4603-a542-665c4761a229', 'tool_call_id': 'call_TkpUUYjHQPe2x81W0GZiSL5I', 'artifact': None, 'status': 'success'}]}\n",
      "\n",
      "\n",
      "\n",
      "Receiving new event of type: values...\n",
      "{'messages': [{'content': 'Raise 3 to the power of 5', 'additional_kwargs': {}, 'response_metadata': {}, 'type': 'human', 'name': None, 'id': 'b2344038-067f-421b-89e6-a4317bc21f49', 'example': False}, {'content': '', 'additional_kwargs': {'tool_calls': [{'id': 'call_rdiGGGwNiNx29fAZZqofecyT', 'function': {'arguments': '{\"a\": 3, \"b\": 3}', 'name': 'multiply'}, 'type': 'function'}, {'id': 'call_7dnyLG840C9MkliMMnhH8gRV', 'function': {'arguments': '{\"a\": 3, \"b\": 3}', 'name': 'multiply'}, 'type': 'function'}], 'refusal': None}, 'response_metadata': {'token_usage': {'completion_tokens': 50, 'prompt_tokens': 137, 'total_tokens': 187, 'completion_tokens_details': {'accepted_prediction_tokens': 0, 'audio_tokens': 0, 'reasoning_tokens': 0, 'rejected_prediction_tokens': 0}, 'prompt_tokens_details': {'audio_tokens': 0, 'cached_tokens': 0}}, 'model_name': 'gpt-4o-2024-08-06', 'system_fingerprint': 'fp_65564d8ba5', 'id': 'chatcmpl-CUwCXZvgSql75AuELVptuwS1iwdCD', 'service_tier': 'default', 'finish_reason': 'tool_calls', 'logprobs': None}, 'type': 'ai', 'name': None, 'id': 'run--4ae1dc21-abaa-4450-a0d6-f6cecf6edf36-0', 'example': False, 'tool_calls': [{'name': 'multiply', 'args': {'a': 3, 'b': 3}, 'id': 'call_rdiGGGwNiNx29fAZZqofecyT', 'type': 'tool_call'}, {'name': 'multiply', 'args': {'a': 3, 'b': 3}, 'id': 'call_7dnyLG840C9MkliMMnhH8gRV', 'type': 'tool_call'}], 'invalid_tool_calls': [], 'usage_metadata': {'input_tokens': 137, 'output_tokens': 50, 'total_tokens': 187, 'input_token_details': {'audio': 0, 'cache_read': 0}, 'output_token_details': {'audio': 0, 'reasoning': 0}}}, {'content': '9', 'additional_kwargs': {}, 'response_metadata': {}, 'type': 'tool', 'name': 'multiply', 'id': '4e68d6e3-e67e-4b32-98d8-c30b4a3fd972', 'tool_call_id': 'call_rdiGGGwNiNx29fAZZqofecyT', 'artifact': None, 'status': 'success'}, {'content': '9', 'additional_kwargs': {}, 'response_metadata': {}, 'type': 'tool', 'name': 'multiply', 'id': '0d53529c-b8c7-4226-ad0f-e2e2580ae0a0', 'tool_call_id': 'call_7dnyLG840C9MkliMMnhH8gRV', 'artifact': None, 'status': 'success'}, {'content': '', 'additional_kwargs': {'tool_calls': [{'id': 'call_TO3E7aebgTF3iAq8OZizBJ1S', 'function': {'arguments': '{\"a\": 9, \"b\": 3}', 'name': 'multiply'}, 'type': 'function'}, {'id': 'call_CCDvwBKftf9U3Fdrr06KGh0X', 'function': {'arguments': '{\"a\": 9, \"b\": 3}', 'name': 'multiply'}, 'type': 'function'}], 'refusal': None}, 'response_metadata': {'token_usage': {'completion_tokens': 50, 'prompt_tokens': 203, 'total_tokens': 253, 'completion_tokens_details': {'accepted_prediction_tokens': 0, 'audio_tokens': 0, 'reasoning_tokens': 0, 'rejected_prediction_tokens': 0}, 'prompt_tokens_details': {'audio_tokens': 0, 'cached_tokens': 0}}, 'model_name': 'gpt-4o-2024-08-06', 'system_fingerprint': 'fp_65564d8ba5', 'id': 'chatcmpl-CUwCZZ6Cc3ZkD5JYvqfzd3oWrBW5X', 'service_tier': 'default', 'finish_reason': 'tool_calls', 'logprobs': None}, 'type': 'ai', 'name': None, 'id': 'run--44c978e6-777f-4124-b1b7-f2c8bf4b967f-0', 'example': False, 'tool_calls': [{'name': 'multiply', 'args': {'a': 9, 'b': 3}, 'id': 'call_TO3E7aebgTF3iAq8OZizBJ1S', 'type': 'tool_call'}, {'name': 'multiply', 'args': {'a': 9, 'b': 3}, 'id': 'call_CCDvwBKftf9U3Fdrr06KGh0X', 'type': 'tool_call'}], 'invalid_tool_calls': [], 'usage_metadata': {'input_tokens': 203, 'output_tokens': 50, 'total_tokens': 253, 'input_token_details': {'audio': 0, 'cache_read': 0}, 'output_token_details': {'audio': 0, 'reasoning': 0}}}, {'content': '27', 'additional_kwargs': {}, 'response_metadata': {}, 'type': 'tool', 'name': 'multiply', 'id': '38a7c022-46b5-4975-812d-d026d8eb759c', 'tool_call_id': 'call_TO3E7aebgTF3iAq8OZizBJ1S', 'artifact': None, 'status': 'success'}, {'content': '27', 'additional_kwargs': {}, 'response_metadata': {}, 'type': 'tool', 'name': 'multiply', 'id': 'c5015a3d-fb5a-4485-b0df-2b962027678e', 'tool_call_id': 'call_CCDvwBKftf9U3Fdrr06KGh0X', 'artifact': None, 'status': 'success'}, {'content': '', 'additional_kwargs': {'tool_calls': [{'id': 'call_TkpUUYjHQPe2x81W0GZiSL5I', 'function': {'arguments': '{\"a\":27,\"b\":3}', 'name': 'multiply'}, 'type': 'function'}], 'refusal': None}, 'response_metadata': {'token_usage': {'completion_tokens': 17, 'prompt_tokens': 269, 'total_tokens': 286, 'completion_tokens_details': {'accepted_prediction_tokens': 0, 'audio_tokens': 0, 'reasoning_tokens': 0, 'rejected_prediction_tokens': 0}, 'prompt_tokens_details': {'audio_tokens': 0, 'cached_tokens': 0}}, 'model_name': 'gpt-4o-2024-08-06', 'system_fingerprint': 'fp_65564d8ba5', 'id': 'chatcmpl-CUwCacC5gn6BTK2GFkk5NhQB4uim3', 'service_tier': 'default', 'finish_reason': 'tool_calls', 'logprobs': None}, 'type': 'ai', 'name': None, 'id': 'run--21c7a85d-881b-43b1-9437-f4ad7f47abc2-0', 'example': False, 'tool_calls': [{'name': 'multiply', 'args': {'a': 27, 'b': 3}, 'id': 'call_TkpUUYjHQPe2x81W0GZiSL5I', 'type': 'tool_call'}], 'invalid_tool_calls': [], 'usage_metadata': {'input_tokens': 269, 'output_tokens': 17, 'total_tokens': 286, 'input_token_details': {'audio': 0, 'cache_read': 0}, 'output_token_details': {'audio': 0, 'reasoning': 0}}}, {'content': '81', 'additional_kwargs': {}, 'response_metadata': {}, 'type': 'tool', 'name': 'multiply', 'id': 'd4a1eabf-d82b-4603-a542-665c4761a229', 'tool_call_id': 'call_TkpUUYjHQPe2x81W0GZiSL5I', 'artifact': None, 'status': 'success'}, {'content': '3 raised to the power of 5 is 243.', 'additional_kwargs': {'refusal': None}, 'response_metadata': {'token_usage': {'completion_tokens': 13, 'prompt_tokens': 294, 'total_tokens': 307, 'completion_tokens_details': {'accepted_prediction_tokens': 0, 'audio_tokens': 0, 'reasoning_tokens': 0, 'rejected_prediction_tokens': 0}, 'prompt_tokens_details': {'audio_tokens': 0, 'cached_tokens': 0}}, 'model_name': 'gpt-4o-2024-08-06', 'system_fingerprint': 'fp_65564d8ba5', 'id': 'chatcmpl-CUwCbRrZ2cT0f3GZW50CiqVOPw0se', 'service_tier': 'default', 'finish_reason': 'stop', 'logprobs': None}, 'type': 'ai', 'name': None, 'id': 'run--2eee029b-8f32-48aa-aa48-d317709f0ff6-0', 'example': False, 'tool_calls': [], 'invalid_tool_calls': [], 'usage_metadata': {'input_tokens': 294, 'output_tokens': 13, 'total_tokens': 307, 'input_token_details': {'audio': 0, 'cache_read': 0}, 'output_token_details': {'audio': 0, 'reasoning': 0}}}]}\n",
      "\n",
      "\n",
      "\n"
     ]
    }
   ],
   "source": [
    "async for chunk in client.runs.stream(\n",
    "    thread[\"thread_id\"],\n",
    "    assistant_id=\"agent\",\n",
    "    input=None,\n",
    "    stream_mode=\"values\",\n",
    "    checkpoint_id=to_replay['checkpoint_id']\n",
    "):      \n",
    "    print(f\"Receiving new event of type: {chunk.event}...\")\n",
    "    print(chunk.data)\n",
    "    print(\"\\n\\n\")"
   ]
  },
  {
   "cell_type": "code",
   "execution_count": 28,
   "id": "9e608e93",
   "metadata": {},
   "outputs": [
    {
     "name": "stdout",
     "output_type": "stream",
     "text": [
      "--------------------Assistant Node--------------------\n",
      "{'content': '', 'additional_kwargs': {'tool_calls': [{'id': 'call_E8GLF4NW8V31QR5z0MWJWUoa', 'function': {'arguments': '{\"a\": 3, \"b\": 3}', 'name': 'multiply'}, 'type': 'function'}, {'id': 'call_OpuFdsBJp6jrv1iOoh8igUYH', 'function': {'arguments': '{\"a\": 3, \"b\": 3}', 'name': 'multiply'}, 'type': 'function'}], 'refusal': None}, 'response_metadata': {'token_usage': {'completion_tokens': 50, 'prompt_tokens': 137, 'total_tokens': 187, 'completion_tokens_details': {'accepted_prediction_tokens': 0, 'audio_tokens': 0, 'reasoning_tokens': 0, 'rejected_prediction_tokens': 0}, 'prompt_tokens_details': {'audio_tokens': 0, 'cached_tokens': 0}}, 'model_name': 'gpt-4o-2024-08-06', 'system_fingerprint': 'fp_65564d8ba5', 'id': 'chatcmpl-CUwCddlGKRtJ0t2jocuKTIHQ57SCo', 'service_tier': 'default', 'finish_reason': 'tool_calls', 'logprobs': None}, 'type': 'ai', 'name': None, 'id': 'run--65ad82fa-98e3-41ea-89ca-cc09f9da29d6-0', 'example': False, 'tool_calls': [{'name': 'multiply', 'args': {'a': 3, 'b': 3}, 'id': 'call_E8GLF4NW8V31QR5z0MWJWUoa', 'type': 'tool_call'}, {'name': 'multiply', 'args': {'a': 3, 'b': 3}, 'id': 'call_OpuFdsBJp6jrv1iOoh8igUYH', 'type': 'tool_call'}], 'invalid_tool_calls': [], 'usage_metadata': {'input_tokens': 137, 'output_tokens': 50, 'total_tokens': 187, 'input_token_details': {'audio': 0, 'cache_read': 0}, 'output_token_details': {'audio': 0, 'reasoning': 0}}}\n",
      "--------------------Tools Node--------------------\n",
      "{'content': '9', 'additional_kwargs': {}, 'response_metadata': {}, 'type': 'tool', 'name': 'multiply', 'id': 'fca1870c-4d67-4c1b-bac6-faece57f9442', 'tool_call_id': 'call_OpuFdsBJp6jrv1iOoh8igUYH', 'artifact': None, 'status': 'success'}\n",
      "--------------------Assistant Node--------------------\n",
      "{'content': '', 'additional_kwargs': {'tool_calls': [{'id': 'call_QExVkK6anPsFQCVIGopY4roy', 'function': {'arguments': '{\"a\": 3, \"b\": 9}', 'name': 'multiply'}, 'type': 'function'}, {'id': 'call_pjORT2jAKhkLgjO025HksIhb', 'function': {'arguments': '{\"a\": 9, \"b\": 9}', 'name': 'multiply'}, 'type': 'function'}], 'refusal': None}, 'response_metadata': {'token_usage': {'completion_tokens': 50, 'prompt_tokens': 203, 'total_tokens': 253, 'completion_tokens_details': {'accepted_prediction_tokens': 0, 'audio_tokens': 0, 'reasoning_tokens': 0, 'rejected_prediction_tokens': 0}, 'prompt_tokens_details': {'audio_tokens': 0, 'cached_tokens': 0}}, 'model_name': 'gpt-4o-2024-08-06', 'system_fingerprint': 'fp_65564d8ba5', 'id': 'chatcmpl-CUwCe7ql0Pl2wrHkl79ikCT0mJesq', 'service_tier': 'default', 'finish_reason': 'tool_calls', 'logprobs': None}, 'type': 'ai', 'name': None, 'id': 'run--0f924caa-dba8-4656-85a1-61481d48056e-0', 'example': False, 'tool_calls': [{'name': 'multiply', 'args': {'a': 3, 'b': 9}, 'id': 'call_QExVkK6anPsFQCVIGopY4roy', 'type': 'tool_call'}, {'name': 'multiply', 'args': {'a': 9, 'b': 9}, 'id': 'call_pjORT2jAKhkLgjO025HksIhb', 'type': 'tool_call'}], 'invalid_tool_calls': [], 'usage_metadata': {'input_tokens': 203, 'output_tokens': 50, 'total_tokens': 253, 'input_token_details': {'audio': 0, 'cache_read': 0}, 'output_token_details': {'audio': 0, 'reasoning': 0}}}\n",
      "--------------------Tools Node--------------------\n",
      "{'content': '81', 'additional_kwargs': {}, 'response_metadata': {}, 'type': 'tool', 'name': 'multiply', 'id': '47a21cf9-695c-4fe0-863b-96478d94dec2', 'tool_call_id': 'call_pjORT2jAKhkLgjO025HksIhb', 'artifact': None, 'status': 'success'}\n",
      "--------------------Assistant Node--------------------\n",
      "{'content': '', 'additional_kwargs': {'tool_calls': [{'id': 'call_sRastwovDx11zPJq1DzaU9w6', 'function': {'arguments': '{\"a\":27,\"b\":81}', 'name': 'multiply'}, 'type': 'function'}], 'refusal': None}, 'response_metadata': {'token_usage': {'completion_tokens': 17, 'prompt_tokens': 269, 'total_tokens': 286, 'completion_tokens_details': {'accepted_prediction_tokens': 0, 'audio_tokens': 0, 'reasoning_tokens': 0, 'rejected_prediction_tokens': 0}, 'prompt_tokens_details': {'audio_tokens': 0, 'cached_tokens': 0}}, 'model_name': 'gpt-4o-2024-08-06', 'system_fingerprint': 'fp_65564d8ba5', 'id': 'chatcmpl-CUwCfqrvvRXM3MjYVCBkboNLmNbL7', 'service_tier': 'default', 'finish_reason': 'tool_calls', 'logprobs': None}, 'type': 'ai', 'name': None, 'id': 'run--a31a5f23-8b25-490a-82ea-475a606d3744-0', 'example': False, 'tool_calls': [{'name': 'multiply', 'args': {'a': 27, 'b': 81}, 'id': 'call_sRastwovDx11zPJq1DzaU9w6', 'type': 'tool_call'}], 'invalid_tool_calls': [], 'usage_metadata': {'input_tokens': 269, 'output_tokens': 17, 'total_tokens': 286, 'input_token_details': {'audio': 0, 'cache_read': 0}, 'output_token_details': {'audio': 0, 'reasoning': 0}}}\n",
      "--------------------Tools Node--------------------\n",
      "{'content': '2187', 'additional_kwargs': {}, 'response_metadata': {}, 'type': 'tool', 'name': 'multiply', 'id': '80bffcbc-e8ef-43a2-a2fc-1dd7a72d5ddc', 'tool_call_id': 'call_sRastwovDx11zPJq1DzaU9w6', 'artifact': None, 'status': 'success'}\n",
      "--------------------Assistant Node--------------------\n",
      "{'content': '3 raised to the power of 5 is 2187.', 'additional_kwargs': {'refusal': None}, 'response_metadata': {'token_usage': {'completion_tokens': 14, 'prompt_tokens': 295, 'total_tokens': 309, 'completion_tokens_details': {'accepted_prediction_tokens': 0, 'audio_tokens': 0, 'reasoning_tokens': 0, 'rejected_prediction_tokens': 0}, 'prompt_tokens_details': {'audio_tokens': 0, 'cached_tokens': 0}}, 'model_name': 'gpt-4o-2024-08-06', 'system_fingerprint': 'fp_65564d8ba5', 'id': 'chatcmpl-CUwCgodeh5kTtkBlISSObNJUwFX0M', 'service_tier': 'default', 'finish_reason': 'stop', 'logprobs': None}, 'type': 'ai', 'name': None, 'id': 'run--40013f03-3c85-4a2c-b876-85830c4af94a-0', 'example': False, 'tool_calls': [], 'invalid_tool_calls': [], 'usage_metadata': {'input_tokens': 295, 'output_tokens': 14, 'total_tokens': 309, 'input_token_details': {'audio': 0, 'cache_read': 0}, 'output_token_details': {'audio': 0, 'reasoning': 0}}}\n"
     ]
    }
   ],
   "source": [
    "async for chunk in client.runs.stream(\n",
    "    thread[\"thread_id\"],\n",
    "    assistant_id=\"agent\",\n",
    "    input=None,\n",
    "    stream_mode=\"updates\",\n",
    "    checkpoint_id=to_replay['checkpoint_id']\n",
    "):\n",
    "    if chunk.data:\n",
    "        assisant_node = chunk.data.get('assistant', {}).get('messages', [])\n",
    "        tool_node = chunk.data.get('tools', {}).get('messages', [])\n",
    "        if assisant_node:\n",
    "            print(\"-\" * 20+\"Assistant Node\"+\"-\" * 20)\n",
    "            print(assisant_node[-1])\n",
    "        elif tool_node:\n",
    "            print(\"-\" * 20+\"Tools Node\"+\"-\" * 20)\n",
    "            print(tool_node[-1])"
   ]
  },
  {
   "cell_type": "code",
   "execution_count": 29,
   "id": "01af5ed4",
   "metadata": {},
   "outputs": [
    {
     "name": "stdout",
     "output_type": "stream",
     "text": [
      "--------------------Assistant Node--------------------\n",
      "{'content': '', 'additional_kwargs': {'tool_calls': [{'id': 'call_uaq3AHfUmMtL1Edh4fLoKLyu', 'function': {'arguments': '{\"a\": 3, \"b\": 3}', 'name': 'multiply'}, 'type': 'function'}, {'id': 'call_5MITGjzjK21abPGifH9dtVFi', 'function': {'arguments': '{\"a\": 3, \"b\": 3}', 'name': 'multiply'}, 'type': 'function'}], 'refusal': None}, 'response_metadata': {'token_usage': {'completion_tokens': 50, 'prompt_tokens': 137, 'total_tokens': 187, 'completion_tokens_details': {'accepted_prediction_tokens': 0, 'audio_tokens': 0, 'reasoning_tokens': 0, 'rejected_prediction_tokens': 0}, 'prompt_tokens_details': {'audio_tokens': 0, 'cached_tokens': 0}}, 'model_name': 'gpt-4o-2024-08-06', 'system_fingerprint': 'fp_65564d8ba5', 'id': 'chatcmpl-CUwCiGGgoiAnexTw1v0JgTW8gS31c', 'service_tier': 'default', 'finish_reason': 'tool_calls', 'logprobs': None}, 'type': 'ai', 'name': None, 'id': 'run--0908ed3e-9423-44b8-91e0-03112197b036-0', 'example': False, 'tool_calls': [{'name': 'multiply', 'args': {'a': 3, 'b': 3}, 'id': 'call_uaq3AHfUmMtL1Edh4fLoKLyu', 'type': 'tool_call'}, {'name': 'multiply', 'args': {'a': 3, 'b': 3}, 'id': 'call_5MITGjzjK21abPGifH9dtVFi', 'type': 'tool_call'}], 'invalid_tool_calls': [], 'usage_metadata': {'input_tokens': 137, 'output_tokens': 50, 'total_tokens': 187, 'input_token_details': {'audio': 0, 'cache_read': 0}, 'output_token_details': {'audio': 0, 'reasoning': 0}}}\n",
      "--------------------Tools Node--------------------\n",
      "{'content': '9', 'additional_kwargs': {}, 'response_metadata': {}, 'type': 'tool', 'name': 'multiply', 'id': '8f04caa8-a3bf-4534-94d5-2ddb97cc4c5b', 'tool_call_id': 'call_5MITGjzjK21abPGifH9dtVFi', 'artifact': None, 'status': 'success'}\n",
      "--------------------Assistant Node--------------------\n",
      "{'content': '', 'additional_kwargs': {'tool_calls': [{'id': 'call_LdZnyIQF0sXLPzJKV3QmWHrC', 'function': {'arguments': '{\"a\": 9, \"b\": 3}', 'name': 'multiply'}, 'type': 'function'}, {'id': 'call_lZoZxlIQBE3NbGNm6ZUNTZFX', 'function': {'arguments': '{\"a\": 9, \"b\": 3}', 'name': 'multiply'}, 'type': 'function'}], 'refusal': None}, 'response_metadata': {'token_usage': {'completion_tokens': 50, 'prompt_tokens': 203, 'total_tokens': 253, 'completion_tokens_details': {'accepted_prediction_tokens': 0, 'audio_tokens': 0, 'reasoning_tokens': 0, 'rejected_prediction_tokens': 0}, 'prompt_tokens_details': {'audio_tokens': 0, 'cached_tokens': 0}}, 'model_name': 'gpt-4o-2024-08-06', 'system_fingerprint': 'fp_65564d8ba5', 'id': 'chatcmpl-CUwCl8Wz6I1fJceIqD357Ity3ZC9x', 'service_tier': 'default', 'finish_reason': 'tool_calls', 'logprobs': None}, 'type': 'ai', 'name': None, 'id': 'run--1303284f-d891-413c-b585-fca33b4417a4-0', 'example': False, 'tool_calls': [{'name': 'multiply', 'args': {'a': 9, 'b': 3}, 'id': 'call_LdZnyIQF0sXLPzJKV3QmWHrC', 'type': 'tool_call'}, {'name': 'multiply', 'args': {'a': 9, 'b': 3}, 'id': 'call_lZoZxlIQBE3NbGNm6ZUNTZFX', 'type': 'tool_call'}], 'invalid_tool_calls': [], 'usage_metadata': {'input_tokens': 203, 'output_tokens': 50, 'total_tokens': 253, 'input_token_details': {'audio': 0, 'cache_read': 0}, 'output_token_details': {'audio': 0, 'reasoning': 0}}}\n",
      "--------------------Tools Node--------------------\n",
      "{'content': '27', 'additional_kwargs': {}, 'response_metadata': {}, 'type': 'tool', 'name': 'multiply', 'id': 'ec0e0df9-a689-4d34-9362-768b82743fd0', 'tool_call_id': 'call_lZoZxlIQBE3NbGNm6ZUNTZFX', 'artifact': None, 'status': 'success'}\n",
      "--------------------Assistant Node--------------------\n",
      "{'content': '', 'additional_kwargs': {'tool_calls': [{'id': 'call_910BLFxFkO94Yp3USc2QDRAt', 'function': {'arguments': '{\"a\":27,\"b\":3}', 'name': 'multiply'}, 'type': 'function'}], 'refusal': None}, 'response_metadata': {'token_usage': {'completion_tokens': 17, 'prompt_tokens': 269, 'total_tokens': 286, 'completion_tokens_details': {'accepted_prediction_tokens': 0, 'audio_tokens': 0, 'reasoning_tokens': 0, 'rejected_prediction_tokens': 0}, 'prompt_tokens_details': {'audio_tokens': 0, 'cached_tokens': 0}}, 'model_name': 'gpt-4o-2024-08-06', 'system_fingerprint': 'fp_65564d8ba5', 'id': 'chatcmpl-CUwCmnsPRLF6qcw7TDfOyWWrxuxSg', 'service_tier': 'default', 'finish_reason': 'tool_calls', 'logprobs': None}, 'type': 'ai', 'name': None, 'id': 'run--288b8f5d-12fc-4711-a185-2cf62e4684c7-0', 'example': False, 'tool_calls': [{'name': 'multiply', 'args': {'a': 27, 'b': 3}, 'id': 'call_910BLFxFkO94Yp3USc2QDRAt', 'type': 'tool_call'}], 'invalid_tool_calls': [], 'usage_metadata': {'input_tokens': 269, 'output_tokens': 17, 'total_tokens': 286, 'input_token_details': {'audio': 0, 'cache_read': 0}, 'output_token_details': {'audio': 0, 'reasoning': 0}}}\n",
      "--------------------Tools Node--------------------\n",
      "{'content': '81', 'additional_kwargs': {}, 'response_metadata': {}, 'type': 'tool', 'name': 'multiply', 'id': '56008aca-8a6f-40df-b29c-573ce95fd230', 'tool_call_id': 'call_910BLFxFkO94Yp3USc2QDRAt', 'artifact': None, 'status': 'success'}\n",
      "--------------------Assistant Node--------------------\n",
      "{'content': '3 raised to the power of 5 is 243.', 'additional_kwargs': {'refusal': None}, 'response_metadata': {'token_usage': {'completion_tokens': 13, 'prompt_tokens': 294, 'total_tokens': 307, 'completion_tokens_details': {'accepted_prediction_tokens': 0, 'audio_tokens': 0, 'reasoning_tokens': 0, 'rejected_prediction_tokens': 0}, 'prompt_tokens_details': {'audio_tokens': 0, 'cached_tokens': 0}}, 'model_name': 'gpt-4o-2024-08-06', 'system_fingerprint': 'fp_65564d8ba5', 'id': 'chatcmpl-CUwCnbaCBwsUAQXpgj2yHH5xEoobj', 'service_tier': 'default', 'finish_reason': 'stop', 'logprobs': None}, 'type': 'ai', 'name': None, 'id': 'run--280dd557-a315-40a8-af26-d1455971fb5f-0', 'example': False, 'tool_calls': [], 'invalid_tool_calls': [], 'usage_metadata': {'input_tokens': 294, 'output_tokens': 13, 'total_tokens': 307, 'input_token_details': {'audio': 0, 'cache_read': 0}, 'output_token_details': {'audio': 0, 'reasoning': 0}}}\n"
     ]
    }
   ],
   "source": [
    "initial_input = {\"messages\": HumanMessage(content=\"Raise 3 to the power of 5\")}\n",
    "thread = await client.threads.create()\n",
    "async for chunk in client.runs.stream(\n",
    "    thread[\"thread_id\"],\n",
    "    assistant_id=\"agent\",\n",
    "    input=initial_input,\n",
    "    stream_mode=\"updates\",\n",
    "):\n",
    "    if chunk.data:\n",
    "        assisant_node = chunk.data.get('assistant', {}).get('messages', [])\n",
    "        tool_node = chunk.data.get('tools', {}).get('messages', [])\n",
    "        if assisant_node:\n",
    "            print(\"-\" * 20+\"Assistant Node\"+\"-\" * 20)\n",
    "            print(assisant_node[-1])\n",
    "        elif tool_node:\n",
    "            print(\"-\" * 20+\"Tools Node\"+\"-\" * 20)\n",
    "            print(tool_node[-1])"
   ]
  },
  {
   "cell_type": "code",
   "execution_count": 30,
   "id": "3dbc8795-c3f5-4559-a00e-dc410c0a927f",
   "metadata": {},
   "outputs": [
    {
     "data": {
      "text/plain": [
       "{'messages': [{'content': 'Raise 3 to the power of 5',\n",
       "   'additional_kwargs': {},\n",
       "   'response_metadata': {},\n",
       "   'type': 'human',\n",
       "   'name': None,\n",
       "   'id': 'd953c183-031e-4040-a659-f4edfc2631d3',\n",
       "   'example': False}]}"
      ]
     },
     "execution_count": 30,
     "metadata": {},
     "output_type": "execute_result"
    }
   ],
   "source": [
    "states = await client.threads.get_history(thread['thread_id'])\n",
    "to_fork = states[-2]\n",
    "to_fork['values']"
   ]
  },
  {
   "cell_type": "code",
   "execution_count": 31,
   "id": "11e6cde1-0388-43ea-b994-1c4e9ca1199b",
   "metadata": {},
   "outputs": [
    {
     "data": {
      "text/plain": [
       "'d953c183-031e-4040-a659-f4edfc2631d3'"
      ]
     },
     "execution_count": 31,
     "metadata": {},
     "output_type": "execute_result"
    }
   ],
   "source": [
    "to_fork['values']['messages'][0]['id']"
   ]
  },
  {
   "cell_type": "code",
   "execution_count": 32,
   "id": "0c1e2300-c8b2-4994-a96d-1be19c04b6a8",
   "metadata": {},
   "outputs": [
    {
     "data": {
      "text/plain": [
       "['assistant']"
      ]
     },
     "execution_count": 32,
     "metadata": {},
     "output_type": "execute_result"
    }
   ],
   "source": [
    "to_fork['next']"
   ]
  },
  {
   "cell_type": "code",
   "execution_count": 33,
   "id": "9d31d5aa-524f-42f4-ba7e-713a029610d6",
   "metadata": {},
   "outputs": [
    {
     "data": {
      "text/plain": [
       "'1f0b279b-0003-6704-8000-a8d44e5c3754'"
      ]
     },
     "execution_count": 33,
     "metadata": {},
     "output_type": "execute_result"
    }
   ],
   "source": [
    "to_fork['checkpoint_id']"
   ]
  },
  {
   "cell_type": "code",
   "execution_count": 34,
   "id": "0198f1b8-2f57-4c6e-ac6a-c6fb80cce0bd",
   "metadata": {},
   "outputs": [],
   "source": [
    "forked_input = {\"messages\": HumanMessage(content=\"Raise 3 to the power of 6\",\n",
    "                                         id=to_fork['values']['messages'][0]['id'])}\n",
    "\n",
    "forked_config = await client.threads.update_state(\n",
    "    thread[\"thread_id\"],\n",
    "    forked_input,\n",
    "    checkpoint_id=to_fork['checkpoint_id']\n",
    ")"
   ]
  },
  {
   "cell_type": "code",
   "execution_count": 35,
   "id": "1dcd5b8e-6bb1-4967-84cf-4af710b8bf46",
   "metadata": {},
   "outputs": [
    {
     "data": {
      "text/plain": [
       "{'checkpoint': {'thread_id': '132c9e5e-2d3c-45e1-9dda-aa367e7a4aa4',\n",
       "  'checkpoint_ns': '',\n",
       "  'checkpoint_id': '1f0b279b-3a63-6bf0-8001-b37b70992f1b'},\n",
       " 'configurable': {'thread_id': '132c9e5e-2d3c-45e1-9dda-aa367e7a4aa4',\n",
       "  'checkpoint_ns': '',\n",
       "  'checkpoint_id': '1f0b279b-3a63-6bf0-8001-b37b70992f1b'},\n",
       " 'checkpoint_id': '1f0b279b-3a63-6bf0-8001-b37b70992f1b'}"
      ]
     },
     "execution_count": 35,
     "metadata": {},
     "output_type": "execute_result"
    }
   ],
   "source": [
    "forked_config"
   ]
  },
  {
   "cell_type": "code",
   "execution_count": 36,
   "id": "015ac68a-5cc1-4c42-90a2-5b2b4865a153",
   "metadata": {},
   "outputs": [
    {
     "data": {
      "text/plain": [
       "{'values': {'messages': [{'content': 'Raise 3 to the power of 6',\n",
       "    'additional_kwargs': {},\n",
       "    'response_metadata': {},\n",
       "    'type': 'human',\n",
       "    'name': None,\n",
       "    'id': 'd953c183-031e-4040-a659-f4edfc2631d3',\n",
       "    'example': False},\n",
       "   {'content': '',\n",
       "    'additional_kwargs': {'tool_calls': [{'id': 'call_uaq3AHfUmMtL1Edh4fLoKLyu',\n",
       "       'function': {'arguments': '{\"a\": 3, \"b\": 3}', 'name': 'multiply'},\n",
       "       'type': 'function'},\n",
       "      {'id': 'call_5MITGjzjK21abPGifH9dtVFi',\n",
       "       'function': {'arguments': '{\"a\": 3, \"b\": 3}', 'name': 'multiply'},\n",
       "       'type': 'function'}],\n",
       "     'refusal': None},\n",
       "    'response_metadata': {'token_usage': {'completion_tokens': 50,\n",
       "      'prompt_tokens': 137,\n",
       "      'total_tokens': 187,\n",
       "      'completion_tokens_details': {'accepted_prediction_tokens': 0,\n",
       "       'audio_tokens': 0,\n",
       "       'reasoning_tokens': 0,\n",
       "       'rejected_prediction_tokens': 0},\n",
       "      'prompt_tokens_details': {'audio_tokens': 0, 'cached_tokens': 0}},\n",
       "     'model_name': 'gpt-4o-2024-08-06',\n",
       "     'system_fingerprint': 'fp_65564d8ba5',\n",
       "     'id': 'chatcmpl-CUwCiGGgoiAnexTw1v0JgTW8gS31c',\n",
       "     'service_tier': 'default',\n",
       "     'finish_reason': 'tool_calls',\n",
       "     'logprobs': None},\n",
       "    'type': 'ai',\n",
       "    'name': None,\n",
       "    'id': 'run--0908ed3e-9423-44b8-91e0-03112197b036-0',\n",
       "    'example': False,\n",
       "    'tool_calls': [{'name': 'multiply',\n",
       "      'args': {'a': 3, 'b': 3},\n",
       "      'id': 'call_uaq3AHfUmMtL1Edh4fLoKLyu',\n",
       "      'type': 'tool_call'},\n",
       "     {'name': 'multiply',\n",
       "      'args': {'a': 3, 'b': 3},\n",
       "      'id': 'call_5MITGjzjK21abPGifH9dtVFi',\n",
       "      'type': 'tool_call'}],\n",
       "    'invalid_tool_calls': [],\n",
       "    'usage_metadata': {'input_tokens': 137,\n",
       "     'output_tokens': 50,\n",
       "     'total_tokens': 187,\n",
       "     'input_token_details': {'audio': 0, 'cache_read': 0},\n",
       "     'output_token_details': {'audio': 0, 'reasoning': 0}}}]},\n",
       " 'next': ['tools'],\n",
       " 'tasks': [{'id': '5795f184-b8cf-5161-ab1b-d208d5a7c166',\n",
       "   'name': 'tools',\n",
       "   'path': ['__pregel_pull', 'tools'],\n",
       "   'error': None,\n",
       "   'interrupts': [],\n",
       "   'checkpoint': None,\n",
       "   'state': None,\n",
       "   'result': None}],\n",
       " 'metadata': {'graph_id': 'agent',\n",
       "  'thread_id': '132c9e5e-2d3c-45e1-9dda-aa367e7a4aa4',\n",
       "  'checkpoint_id': '1f0b279b-0003-6704-8000-a8d44e5c3754',\n",
       "  'checkpoint_ns': '',\n",
       "  'source': 'update',\n",
       "  'step': 1,\n",
       "  'parents': {}},\n",
       " 'created_at': '2025-10-26T14:40:22.328830+00:00',\n",
       " 'checkpoint': {'checkpoint_id': '1f0b279b-3a63-6bf0-8001-b37b70992f1b',\n",
       "  'thread_id': '132c9e5e-2d3c-45e1-9dda-aa367e7a4aa4',\n",
       "  'checkpoint_ns': ''},\n",
       " 'parent_checkpoint': {'checkpoint_id': '1f0b279b-0003-6704-8000-a8d44e5c3754',\n",
       "  'thread_id': '132c9e5e-2d3c-45e1-9dda-aa367e7a4aa4',\n",
       "  'checkpoint_ns': ''},\n",
       " 'interrupts': [],\n",
       " 'checkpoint_id': '1f0b279b-3a63-6bf0-8001-b37b70992f1b',\n",
       " 'parent_checkpoint_id': '1f0b279b-0003-6704-8000-a8d44e5c3754'}"
      ]
     },
     "execution_count": 36,
     "metadata": {},
     "output_type": "execute_result"
    }
   ],
   "source": [
    "states = await client.threads.get_history(thread['thread_id'])\n",
    "states[0]"
   ]
  },
  {
   "cell_type": "code",
   "execution_count": 37,
   "id": "da005240-d3f0-4c89-9aca-dfcb5d410ceb",
   "metadata": {},
   "outputs": [
    {
     "name": "stdout",
     "output_type": "stream",
     "text": [
      "--------------------Tools Node--------------------\n",
      "{'content': '9', 'additional_kwargs': {}, 'response_metadata': {}, 'type': 'tool', 'name': 'multiply', 'id': 'd243c618-21a5-4a63-9a52-57dc664d5c90', 'tool_call_id': 'call_5MITGjzjK21abPGifH9dtVFi', 'artifact': None, 'status': 'success'}\n",
      "--------------------Assistant Node--------------------\n",
      "{'content': '', 'additional_kwargs': {'tool_calls': [{'id': 'call_tQQeVtIiDaUinUSnsulIsx2X', 'function': {'arguments': '{\"a\": 9, \"b\": 3}', 'name': 'multiply'}, 'type': 'function'}, {'id': 'call_J98O3sC8K46ypcWSy4kBwybi', 'function': {'arguments': '{\"a\": 9, \"b\": 9}', 'name': 'multiply'}, 'type': 'function'}], 'refusal': None}, 'response_metadata': {'token_usage': {'completion_tokens': 50, 'prompt_tokens': 203, 'total_tokens': 253, 'completion_tokens_details': {'accepted_prediction_tokens': 0, 'audio_tokens': 0, 'reasoning_tokens': 0, 'rejected_prediction_tokens': 0}, 'prompt_tokens_details': {'audio_tokens': 0, 'cached_tokens': 0}}, 'model_name': 'gpt-4o-2024-08-06', 'system_fingerprint': 'fp_65564d8ba5', 'id': 'chatcmpl-CUwCpZ1iP5gxCAZBEtpjpEzIdcWG9', 'service_tier': 'default', 'finish_reason': 'tool_calls', 'logprobs': None}, 'type': 'ai', 'name': None, 'id': 'run--e09ac3ff-a0a3-4d78-8844-61955f1317f3-0', 'example': False, 'tool_calls': [{'name': 'multiply', 'args': {'a': 9, 'b': 3}, 'id': 'call_tQQeVtIiDaUinUSnsulIsx2X', 'type': 'tool_call'}, {'name': 'multiply', 'args': {'a': 9, 'b': 9}, 'id': 'call_J98O3sC8K46ypcWSy4kBwybi', 'type': 'tool_call'}], 'invalid_tool_calls': [], 'usage_metadata': {'input_tokens': 203, 'output_tokens': 50, 'total_tokens': 253, 'input_token_details': {'audio': 0, 'cache_read': 0}, 'output_token_details': {'audio': 0, 'reasoning': 0}}}\n",
      "--------------------Tools Node--------------------\n",
      "{'content': '81', 'additional_kwargs': {}, 'response_metadata': {}, 'type': 'tool', 'name': 'multiply', 'id': 'dcdaa5d9-1aac-44ed-b75a-1b781a23a944', 'tool_call_id': 'call_J98O3sC8K46ypcWSy4kBwybi', 'artifact': None, 'status': 'success'}\n",
      "--------------------Assistant Node--------------------\n",
      "{'content': '', 'additional_kwargs': {'tool_calls': [{'id': 'call_z6SZbFCv87HY5kR59HnGIETM', 'function': {'arguments': '{\"a\":27,\"b\":81}', 'name': 'multiply'}, 'type': 'function'}], 'refusal': None}, 'response_metadata': {'token_usage': {'completion_tokens': 17, 'prompt_tokens': 269, 'total_tokens': 286, 'completion_tokens_details': {'accepted_prediction_tokens': 0, 'audio_tokens': 0, 'reasoning_tokens': 0, 'rejected_prediction_tokens': 0}, 'prompt_tokens_details': {'audio_tokens': 0, 'cached_tokens': 0}}, 'model_name': 'gpt-4o-2024-08-06', 'system_fingerprint': 'fp_65564d8ba5', 'id': 'chatcmpl-CUwCrzr3XdhRIr9efh7QPhLbdLV7E', 'service_tier': 'default', 'finish_reason': 'tool_calls', 'logprobs': None}, 'type': 'ai', 'name': None, 'id': 'run--a5a584af-4ac6-464c-9128-6f04e1fd0712-0', 'example': False, 'tool_calls': [{'name': 'multiply', 'args': {'a': 27, 'b': 81}, 'id': 'call_z6SZbFCv87HY5kR59HnGIETM', 'type': 'tool_call'}], 'invalid_tool_calls': [], 'usage_metadata': {'input_tokens': 269, 'output_tokens': 17, 'total_tokens': 286, 'input_token_details': {'audio': 0, 'cache_read': 0}, 'output_token_details': {'audio': 0, 'reasoning': 0}}}\n",
      "--------------------Tools Node--------------------\n",
      "{'content': '2187', 'additional_kwargs': {}, 'response_metadata': {}, 'type': 'tool', 'name': 'multiply', 'id': 'c648b3b1-3a54-4513-8d40-92eedca323e8', 'tool_call_id': 'call_z6SZbFCv87HY5kR59HnGIETM', 'artifact': None, 'status': 'success'}\n",
      "--------------------Assistant Node--------------------\n",
      "{'content': '3 raised to the power of 6 is 2187.', 'additional_kwargs': {'refusal': None}, 'response_metadata': {'token_usage': {'completion_tokens': 14, 'prompt_tokens': 295, 'total_tokens': 309, 'completion_tokens_details': {'accepted_prediction_tokens': 0, 'audio_tokens': 0, 'reasoning_tokens': 0, 'rejected_prediction_tokens': 0}, 'prompt_tokens_details': {'audio_tokens': 0, 'cached_tokens': 0}}, 'model_name': 'gpt-4o-2024-08-06', 'system_fingerprint': 'fp_65564d8ba5', 'id': 'chatcmpl-CUwCsrozOBgkpn3zfXSbh3vU9u2E8', 'service_tier': 'default', 'finish_reason': 'stop', 'logprobs': None}, 'type': 'ai', 'name': None, 'id': 'run--e986cf60-de7f-4c0a-9387-c3569970b752-0', 'example': False, 'tool_calls': [], 'invalid_tool_calls': [], 'usage_metadata': {'input_tokens': 295, 'output_tokens': 14, 'total_tokens': 309, 'input_token_details': {'audio': 0, 'cache_read': 0}, 'output_token_details': {'audio': 0, 'reasoning': 0}}}\n"
     ]
    }
   ],
   "source": [
    "async for chunk in client.runs.stream(\n",
    "    thread[\"thread_id\"],\n",
    "    assistant_id=\"agent\",\n",
    "    input=None,\n",
    "    stream_mode=\"updates\",\n",
    "    checkpoint_id=forked_config['checkpoint_id']\n",
    "):\n",
    "    if chunk.data:\n",
    "        assisant_node = chunk.data.get('assistant', {}).get('messages', [])\n",
    "        tool_node = chunk.data.get('tools', {}).get('messages', [])\n",
    "        if assisant_node:\n",
    "            print(\"-\" * 20+\"Assistant Node\"+\"-\" * 20)\n",
    "            print(assisant_node[-1])\n",
    "        elif tool_node:\n",
    "            print(\"-\" * 20+\"Tools Node\"+\"-\" * 20)\n",
    "            print(tool_node[-1])"
   ]
  }
 ],
 "metadata": {
  "kernelspec": {
   "display_name": "venv",
   "language": "python",
   "name": "python3"
  },
  "language_info": {
   "codemirror_mode": {
    "name": "ipython",
    "version": 3
   },
   "file_extension": ".py",
   "mimetype": "text/x-python",
   "name": "python",
   "nbconvert_exporter": "python",
   "pygments_lexer": "ipython3",
   "version": "3.12.10"
  }
 },
 "nbformat": 4,
 "nbformat_minor": 5
}
