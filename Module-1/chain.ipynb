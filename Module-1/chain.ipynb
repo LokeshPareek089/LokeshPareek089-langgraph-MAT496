{
 "cells": [
  {
   "cell_type": "code",
   "execution_count": 31,
   "id": "866b5321-a238-4a9e-af9e-f11a131b5f11",
   "metadata": {},
   "outputs": [
    {
     "name": "stdout",
     "output_type": "stream",
     "text": [
      "==================================\u001b[1m Ai Message \u001b[0m==================================\n",
      "Name: Model\n",
      "\n",
      "So you said you were learning about Machine Learning?\n",
      "================================\u001b[1m Human Message \u001b[0m=================================\n",
      "Name: Brijesh\n",
      "\n",
      "Yes, that's right.\n",
      "==================================\u001b[1m Ai Message \u001b[0m==================================\n",
      "Name: Model\n",
      "\n",
      "Great, what would you like to learn about.\n",
      "================================\u001b[1m Human Message \u001b[0m=================================\n",
      "Name: Brijesh\n",
      "\n",
      "I want to learn about it's usecase, it's process.\n"
     ]
    }
   ],
   "source": [
    "from pprint import pprint\n",
    "from langchain_core.messages import AIMessage, HumanMessage\n",
    "\n",
    "messages = [AIMessage(content=f\"So you said you were learning about Machine Learning?\", name=\"Model\")]\n",
    "messages.append(HumanMessage(content=f\"Yes, that's right.\",name=\"Brijesh\"))\n",
    "messages.append(AIMessage(content=f\"Great, what would you like to learn about.\", name=\"Model\"))\n",
    "messages.append(HumanMessage(content=f\"I want to learn about it's usecase, it's process.\", name=\"Brijesh\"))\n",
    "\n",
    "for m in messages:\n",
    "    m.pretty_print()"
   ]
  },
  {
   "cell_type": "code",
   "execution_count": 32,
   "id": "2652d5ec-7602-4220-bc6e-b90783ab287b",
   "metadata": {},
   "outputs": [
    {
     "data": {
      "text/plain": [
       "True"
      ]
     },
     "execution_count": 32,
     "metadata": {},
     "output_type": "execute_result"
    }
   ],
   "source": [
    "import os\n",
    "from dotenv import load_dotenv\n",
    "load_dotenv(dotenv_path=os.path.join('studio', '.env'))"
   ]
  },
  {
   "cell_type": "code",
   "execution_count": 33,
   "id": "95b99ad4-5753-49d3-a916-a9e949722c01",
   "metadata": {},
   "outputs": [
    {
     "data": {
      "text/plain": [
       "langchain_core.messages.ai.AIMessage"
      ]
     },
     "execution_count": 33,
     "metadata": {},
     "output_type": "execute_result"
    }
   ],
   "source": [
    "from langchain_openai import ChatOpenAI\n",
    "llm = ChatOpenAI(model=\"gpt-4o\")\n",
    "result = llm.invoke(messages)\n",
    "type(result)"
   ]
  },
  {
   "cell_type": "code",
   "execution_count": 34,
   "id": "88d60338-c892-4d04-a83f-878de4a76a6a",
   "metadata": {},
   "outputs": [
    {
     "data": {
      "text/plain": [
       "AIMessage(content=\"Certainly! Machine learning (ML) is a subset of artificial intelligence (AI) that involves the development of algorithms that allow computers to learn from and make decisions based on data. Here’s a basic overview of its use cases and the process involved:\\n\\n### Use Cases of Machine Learning\\n1. **Finance**: \\n   - Fraud detection: Identifying unusual patterns in transactions that may indicate fraudulent activity.\\n   - Algorithmic trading: Using historical data to predict and make trade decisions.\\n\\n2. **Healthcare**:\\n   - Disease diagnosis: Analyzing medical images or genetic information to assist in diagnosing diseases.\\n   - Personalized treatment plans: Recommending treatments based on individual patient data.\\n\\n3. **Retail**:\\n   - Recommendation systems: Suggesting products to customers based on previous purchases and browsing history.\\n   - Inventory management: Predicting demand for products to optimize stock levels.\\n\\n4. **Automotive**:\\n   - Autonomous vehicles: Enabling self-driving cars through perception, decision-making, and control systems.\\n   - Predictive maintenance: Predicting vehicle malfunctions before they occur, reducing downtime.\\n\\n5. **Marketing**:\\n   - Sentiment analysis: Analyzing social media or review content to gauge public sentiment.\\n   - Customer segmentation: Identifying customer segments for targeted marketing efforts.\\n\\n6. **Technology**:\\n   - Speech recognition: Transforming spoken language into text (e.g., virtual assistants).\\n   - Natural language processing: Understanding and generating human language (e.g., chatbots).\\n\\n### Machine Learning Process\\nThe process of developing a machine learning model involves several steps:\\n\\n1. **Define the Problem**: Clearly define the objective and the challenge you want to address with machine learning.\\n\\n2. **Gather Data**: Collect and organize relevant data. The quality and quantity of data can significantly impact the model’s performance.\\n\\n3. **Prepare the Data**: Clean and preprocess the data to handle missing values, remove outliers, and normalize or scale features. This step may also involve feature engineering to enhance the data with additional relevant information.\\n\\n4. **Choose a Model**: Select an appropriate algorithm or model that fits the problem. Common ML algorithms include decision trees, support vector machines, neural networks, and others.\\n\\n5. **Train the Model**: Use a portion of the data to train the model, allowing it to learn patterns and relationships.\\n\\n6. **Validate and Test the Model**: Split the data into training, validation, and test datasets to evaluate the model’s performance and ensure it generalizes well to new, unseen data.\\n\\n7. **Tune the Model**: Adjust the model’s hyperparameters to optimize its performance. Techniques like cross-validation may be used to ensure that the model is neither overfitting nor underfitting the data.\\n\\n8. **Deploy the Model**: Implement the model into a real-world application where it can begin making predictions or decisions based on new data.\\n\\n9. **Monitor and Maintain**: Continuously monitor the model's performance and update it as needed to adapt to changes in the data or environment.\\n\\nMachine learning is a powerful tool that can be applied across a wide range of domains to uncover insights and automate decision-making processes. Would you like to explore any of these areas in more detail?\", additional_kwargs={'refusal': None}, response_metadata={'token_usage': {'completion_tokens': 655, 'prompt_tokens': 66, 'total_tokens': 721, 'completion_tokens_details': {'accepted_prediction_tokens': 0, 'audio_tokens': 0, 'reasoning_tokens': 0, 'rejected_prediction_tokens': 0}, 'prompt_tokens_details': {'audio_tokens': 0, 'cached_tokens': 0}}, 'model_name': 'gpt-4o-2024-08-06', 'system_fingerprint': 'fp_f64f290af2', 'id': 'chatcmpl-CQzatv5o59w4Fzryc0PL3tm7t7m6i', 'service_tier': 'default', 'finish_reason': 'stop', 'logprobs': None}, id='run--8116e99c-0ea5-4a7b-ba48-ed7e70870a6b-0', usage_metadata={'input_tokens': 66, 'output_tokens': 655, 'total_tokens': 721, 'input_token_details': {'audio': 0, 'cache_read': 0}, 'output_token_details': {'audio': 0, 'reasoning': 0}})"
      ]
     },
     "execution_count": 34,
     "metadata": {},
     "output_type": "execute_result"
    }
   ],
   "source": [
    "result"
   ]
  },
  {
   "cell_type": "code",
   "execution_count": 35,
   "id": "c3a29654-6b8e-4eda-9cec-22fabb9b8620",
   "metadata": {},
   "outputs": [
    {
     "data": {
      "text/plain": [
       "{'token_usage': {'completion_tokens': 655,\n",
       "  'prompt_tokens': 66,\n",
       "  'total_tokens': 721,\n",
       "  'completion_tokens_details': {'accepted_prediction_tokens': 0,\n",
       "   'audio_tokens': 0,\n",
       "   'reasoning_tokens': 0,\n",
       "   'rejected_prediction_tokens': 0},\n",
       "  'prompt_tokens_details': {'audio_tokens': 0, 'cached_tokens': 0}},\n",
       " 'model_name': 'gpt-4o-2024-08-06',\n",
       " 'system_fingerprint': 'fp_f64f290af2',\n",
       " 'id': 'chatcmpl-CQzatv5o59w4Fzryc0PL3tm7t7m6i',\n",
       " 'service_tier': 'default',\n",
       " 'finish_reason': 'stop',\n",
       " 'logprobs': None}"
      ]
     },
     "execution_count": 35,
     "metadata": {},
     "output_type": "execute_result"
    }
   ],
   "source": [
    "result.response_metadata"
   ]
  },
  {
   "cell_type": "code",
   "execution_count": 36,
   "id": "928faf56-1a1a-4c5f-b97d-bd64d8e166d1",
   "metadata": {},
   "outputs": [],
   "source": [
    "def multiply(a: int, b: int) -> int:\n",
    "    \"\"\"Multiply a and b.\n",
    "\n",
    "    Args:\n",
    "        a: first int\n",
    "        b: second int\n",
    "    \"\"\"\n",
    "    return a * b\n",
    "\n",
    "llm_with_tools = llm.bind_tools([multiply])"
   ]
  },
  {
   "cell_type": "code",
   "execution_count": 37,
   "id": "9edbe13e-cc72-4685-ac97-2ebb4ceb2544",
   "metadata": {},
   "outputs": [],
   "source": [
    "tool_call = llm_with_tools.invoke([HumanMessage(content=f\"What is 5 multiplied by 6?\", name=\"Brijesh\")])"
   ]
  },
  {
   "cell_type": "code",
   "execution_count": 38,
   "id": "a78178cb-fa43-45b5-be5e-5a22bda5a5e7",
   "metadata": {},
   "outputs": [
    {
     "data": {
      "text/plain": [
       "[{'name': 'multiply',\n",
       "  'args': {'a': 5, 'b': 6},\n",
       "  'id': 'call_1d8RMw7w5LHLu5dOlpFIozEY',\n",
       "  'type': 'tool_call'}]"
      ]
     },
     "execution_count": 38,
     "metadata": {},
     "output_type": "execute_result"
    }
   ],
   "source": [
    "tool_call.tool_calls"
   ]
  },
  {
   "cell_type": "code",
   "execution_count": 39,
   "id": "3699dd5c-398c-43c7-b496-fd87e55e11ca",
   "metadata": {},
   "outputs": [],
   "source": [
    "from typing_extensions import TypedDict\n",
    "from langchain_core.messages import AnyMessage\n",
    "\n",
    "class MessagesState(TypedDict):\n",
    "    messages: list[AnyMessage]"
   ]
  },
  {
   "cell_type": "code",
   "execution_count": 40,
   "id": "6b33eb72-3197-4870-b9a3-0da8056c40c5",
   "metadata": {},
   "outputs": [],
   "source": [
    "from typing import Annotated\n",
    "from langgraph.graph.message import add_messages\n",
    "\n",
    "class MessagesState(TypedDict):\n",
    "    messages: Annotated[list[AnyMessage], add_messages]"
   ]
  },
  {
   "cell_type": "code",
   "execution_count": 41,
   "id": "9ab516ee-eab1-4856-8210-99f1fe499672",
   "metadata": {},
   "outputs": [],
   "source": [
    "from langgraph.graph import MessagesState\n",
    "\n",
    "class MessagesState(MessagesState):\n",
    "    # Add any keys needed beyond messages, which is pre-built \n",
    "    pass"
   ]
  },
  {
   "cell_type": "code",
   "execution_count": 42,
   "id": "23ffea76-16a5-4053-a1bc-91e0101d91dc",
   "metadata": {},
   "outputs": [
    {
     "data": {
      "text/plain": [
       "[AIMessage(content='Hello! How can I assist you?', additional_kwargs={}, response_metadata={}, name='Model', id='5768b4d6-0590-4f1f-805d-f73010fca7de'),\n",
       " HumanMessage(content='I have some confusion in LangGraph.', additional_kwargs={}, response_metadata={}, name='Brijesh', id='7dc8d388-1bc3-43ce-b8c2-a8b9c2f09fd8'),\n",
       " AIMessage(content='Sure, I can help with that! What is your query?', additional_kwargs={}, response_metadata={}, name='Model', id='319933f3-c32d-4d8e-8391-3b163a384b56')]"
      ]
     },
     "execution_count": 42,
     "metadata": {},
     "output_type": "execute_result"
    }
   ],
   "source": [
    "# Initial state\n",
    "initial_messages = [AIMessage(content=\"Hello! How can I assist you?\", name=\"Model\"),\n",
    "                    HumanMessage(content=\"I have some confusion in LangGraph.\", name=\"Brijesh\")\n",
    "                   ]\n",
    "\n",
    "# New message to add\n",
    "new_message = AIMessage(content=\"Sure, I can help with that! What is your query?\", name=\"Model\")\n",
    "\n",
    "# Test\n",
    "add_messages(initial_messages , new_message)"
   ]
  },
  {
   "cell_type": "code",
   "execution_count": 43,
   "id": "b5306639-7e6a-44be-8471-8d2631701cfb",
   "metadata": {},
   "outputs": [
    {
     "data": {
      "image/png": "[encoded data removed]",
      "text/plain": [
       "<IPython.core.display.Image object>"
      ]
     },
     "metadata": {},
     "output_type": "display_data"
    }
   ],
   "source": [
    "from IPython.display import Image, display\n",
    "from langgraph.graph import StateGraph, START, END\n",
    "    \n",
    "# Node\n",
    "def tool_calling_llm(state: MessagesState):\n",
    "    return {\"messages\": [llm_with_tools.invoke(state[\"messages\"])]}\n",
    "\n",
    "# Build graph\n",
    "builder = StateGraph(MessagesState)\n",
    "builder.add_node(\"tool_calling_llm\", tool_calling_llm)\n",
    "builder.add_edge(START, \"tool_calling_llm\")\n",
    "builder.add_edge(\"tool_calling_llm\", END)\n",
    "graph = builder.compile()\n",
    "\n",
    "# View\n",
    "display(Image(graph.get_graph().draw_mermaid_png()))"
   ]
  },
  {
   "cell_type": "code",
   "execution_count": 44,
   "id": "983e2487-c0a5-40a2-afbc-aa53ff49fefc",
   "metadata": {},
   "outputs": [
    {
     "name": "stdout",
     "output_type": "stream",
     "text": [
      "================================\u001b[1m Human Message \u001b[0m=================================\n",
      "\n",
      "Hello!\n",
      "==================================\u001b[1m Ai Message \u001b[0m==================================\n",
      "\n",
      "Hello! How can I assist you today?\n"
     ]
    }
   ],
   "source": [
    "messages = graph.invoke({\"messages\": HumanMessage(content=\"Hello!\")})\n",
    "for m in messages['messages']:\n",
    "    m.pretty_print()"
   ]
  },
  {
   "cell_type": "code",
   "execution_count": 45,
   "id": "7fe8b042-ecc8-426f-995e-cc1bbaf7cacc",
   "metadata": {},
   "outputs": [
    {
     "name": "stdout",
     "output_type": "stream",
     "text": [
      "================================\u001b[1m Human Message \u001b[0m=================================\n",
      "Name: Brijesh\n",
      "\n",
      "Multiply 5 and 6?\n",
      "==================================\u001b[1m Ai Message \u001b[0m==================================\n",
      "Tool Calls:\n",
      "  multiply (call_5Kj0UITpOGqVL0XuRNuRnErw)\n",
      " Call ID: call_5Kj0UITpOGqVL0XuRNuRnErw\n",
      "  Args:\n",
      "    a: 5\n",
      "    b: 6\n"
     ]
    }
   ],
   "source": [
    "messages = graph.invoke({\"messages\": HumanMessage(content=\"Multiply 5 and 6?\", name=\"Brijesh\")})\n",
    "for m in messages['messages']:\n",
    "    m.pretty_print()"
   ]
  },
  {
   "cell_type": "code",
   "execution_count": null,
   "id": "311fbae3",
   "metadata": {},
   "outputs": [],
   "source": []
  }
 ],
 "metadata": {
  "kernelspec": {
   "display_name": "venv",
   "language": "python",
   "name": "python3"
  },
  "language_info": {
   "codemirror_mode": {
    "name": "ipython",
    "version": 3
   },
   "file_extension": ".py",
   "mimetype": "text/x-python",
   "name": "python",
   "nbconvert_exporter": "python",
   "pygments_lexer": "ipython3",
   "version": "3.12.10"
  }
 },
 "nbformat": 4,
 "nbformat_minor": 5
}
